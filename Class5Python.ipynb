{
 "cells": [
  {
   "cell_type": "markdown",
   "metadata": {},
   "source": [
    "# Dictionary"
   ]
  },
  {
   "cell_type": "code",
   "execution_count": 2,
   "metadata": {},
   "outputs": [
    {
     "name": "stdout",
     "output_type": "stream",
     "text": [
      "{'id': 2, 'name': 'Sohail', 'course': 'AI'}\n",
      "<class 'dict'>\n"
     ]
    }
   ],
   "source": [
    "d1={'id':2,\n",
    "   'name':'Sohail',\n",
    "   'course':'AI'}\n",
    "print(d1)\n",
    "print(type(d1))\n"
   ]
  },
  {
   "cell_type": "code",
   "execution_count": 3,
   "metadata": {},
   "outputs": [
    {
     "data": {
      "text/plain": [
       "{'id': 10, 'name': 'sohail', 'course': 'AI'}"
      ]
     },
     "execution_count": 3,
     "metadata": {},
     "output_type": "execute_result"
    }
   ],
   "source": [
    "d1={}\n",
    "d1['id']=10\n",
    "d1['name']='sohail'\n",
    "d1['course']='AI'\n",
    "d1"
   ]
  },
  {
   "cell_type": "code",
   "execution_count": 5,
   "metadata": {},
   "outputs": [
    {
     "data": {
      "text/plain": [
       "10"
      ]
     },
     "execution_count": 5,
     "metadata": {},
     "output_type": "execute_result"
    }
   ],
   "source": [
    "d1['id']"
   ]
  },
  {
   "cell_type": "code",
   "execution_count": 10,
   "metadata": {},
   "outputs": [
    {
     "name": "stdout",
     "output_type": "stream",
     "text": [
      "{'id': 'name', 'name': 'Sohail', 'course': 'AI'}\n"
     ]
    }
   ],
   "source": [
    "d1={'id':2,\n",
    "   'name':'Sohail',\n",
    "   'course':'AI',\n",
    "   'id':34,\n",
    "   'id':'name'}\n",
    "print(d1)"
   ]
  },
  {
   "cell_type": "code",
   "execution_count": 11,
   "metadata": {},
   "outputs": [
    {
     "name": "stdout",
     "output_type": "stream",
     "text": [
      "{'id': 2, 'name': 'Sohail', 'course': 'AI'}\n",
      "{}\n"
     ]
    }
   ],
   "source": [
    "d1={'id':2,\n",
    "   'name':'Sohail',\n",
    "   'course':'AI'}\n",
    "print(d1)\n",
    "d1.clear()\n",
    "print(d1)"
   ]
  },
  {
   "cell_type": "code",
   "execution_count": 12,
   "metadata": {},
   "outputs": [
    {
     "name": "stdout",
     "output_type": "stream",
     "text": [
      "{'id': 2, 'name': 'Sohail', 'course': 'AI'}\n"
     ]
    },
    {
     "ename": "NameError",
     "evalue": "name 'd1' is not defined",
     "output_type": "error",
     "traceback": [
      "\u001b[1;31m---------------------------------------------------------------------------\u001b[0m",
      "\u001b[1;31mNameError\u001b[0m                                 Traceback (most recent call last)",
      "\u001b[1;32m<ipython-input-12-b3dca3b13dfd>\u001b[0m in \u001b[0;36m<module>\u001b[1;34m\u001b[0m\n\u001b[0;32m      4\u001b[0m \u001b[0mprint\u001b[0m\u001b[1;33m(\u001b[0m\u001b[0md1\u001b[0m\u001b[1;33m)\u001b[0m\u001b[1;33m\u001b[0m\u001b[1;33m\u001b[0m\u001b[0m\n\u001b[0;32m      5\u001b[0m \u001b[1;32mdel\u001b[0m \u001b[0md1\u001b[0m\u001b[1;33m\u001b[0m\u001b[1;33m\u001b[0m\u001b[0m\n\u001b[1;32m----> 6\u001b[1;33m \u001b[0mprint\u001b[0m\u001b[1;33m(\u001b[0m\u001b[0md1\u001b[0m\u001b[1;33m)\u001b[0m\u001b[1;33m\u001b[0m\u001b[1;33m\u001b[0m\u001b[0m\n\u001b[0m",
      "\u001b[1;31mNameError\u001b[0m: name 'd1' is not defined"
     ]
    }
   ],
   "source": [
    "d1={'id':2,\n",
    "   'name':'Sohail',\n",
    "   'course':'AI'}\n",
    "print(d1)\n",
    "del d1\n",
    "print(d1)"
   ]
  },
  {
   "cell_type": "code",
   "execution_count": 13,
   "metadata": {},
   "outputs": [
    {
     "name": "stdout",
     "output_type": "stream",
     "text": [
      "{'id': 2, 'name': 'Sohail', 'course': 'AI'}\n",
      "{'id': 2, 'name': 'Sohail', 'course': 'AI'}\n",
      "{'id': 2, 'name': 'Arshad', 'course': 'AI'}\n",
      "{'id': 2, 'name': 'Sohail', 'course': 'AI'}\n"
     ]
    }
   ],
   "source": [
    "d1={'id':2,\n",
    "   'name':'Sohail',\n",
    "   'course':'AI'}\n",
    "d2=d1.copy()\n",
    "print(d1)\n",
    "print(d2)\n",
    "d1['name']='Arshad'\n",
    "print(d1)\n",
    "print(d2)"
   ]
  },
  {
   "cell_type": "code",
   "execution_count": 14,
   "metadata": {},
   "outputs": [
    {
     "data": {
      "text/plain": [
       "{'name': None, 'id': None, 'contact': None, 'DOB': None, 'CNIC': None}"
      ]
     },
     "execution_count": 14,
     "metadata": {},
     "output_type": "execute_result"
    }
   ],
   "source": [
    "l1=['name','id','contact','DOB','CNIC']\n",
    "dict.fromkeys(l1)\n"
   ]
  },
  {
   "cell_type": "code",
   "execution_count": 11,
   "metadata": {},
   "outputs": [
    {
     "name": "stdout",
     "output_type": "stream",
     "text": [
      "enter keysa,b,c\n",
      "enter valuex,y,z\n",
      "a\n",
      "b\n",
      "c\n",
      "{'a': 'x', 'b': 'y', 'c': 'z'}\n"
     ]
    }
   ],
   "source": [
    "\n",
    "\n",
    "keys=input(\"enter keys\").split(\",\")\n",
    "\n",
    "values=input(\"enter value\").split(\",\")\n",
    "count=0\n",
    "dictionary={}\n",
    "for i in keys:\n",
    "    print(i)\n",
    "    dictionary[i]=values[count]\n",
    "    count+=1\n",
    "print(dictionary)\n"
   ]
  },
  {
   "cell_type": "code",
   "execution_count": 12,
   "metadata": {},
   "outputs": [
    {
     "name": "stdout",
     "output_type": "stream",
     "text": [
      "enter keysa,b,c\n",
      "enter valuex,y,z\n",
      "{'a': 'x', 'b': 'y', 'c': 'z'}\n"
     ]
    }
   ],
   "source": [
    "\n",
    "\n",
    "keys=input(\"enter keys\").split(\",\")\n",
    "\n",
    "values=input(\"enter value\").split(\",\")\n",
    "count=0\n",
    "dictionary={}\n",
    "while(count != len(values)):\n",
    "    dictionary[keys[count]]=values[count]\n",
    "    count+=1\n",
    "print(dictionary)\n"
   ]
  },
  {
   "cell_type": "code",
   "execution_count": 15,
   "metadata": {},
   "outputs": [
    {
     "name": "stdout",
     "output_type": "stream",
     "text": [
      "enter name:usmaa\n",
      "Enter ID:a\n",
      "Enter Skills:asd,sda\n",
      "{'name': 'usama', 'id': '123', 'skills': ['a', 'b', 'c']}\n"
     ]
    }
   ],
   "source": [
    "name=input(\"enter name:\")\n",
    "id1=input(\"Enter ID:\")\n",
    "\n",
    "skills=input(\"Enter Skills:\").split(',')\n",
    "\n",
    "keys=[\"name\",\"id\",\"skills\"]\n",
    "\n",
    "#list1=[]\n",
    "list1.append(name)\n",
    "list1.append(id1)\n",
    "list1.append(skills)\n",
    "\n",
    "dicti=dict(zip(keys,list1))\n",
    "print(dicti)"
   ]
  },
  {
   "cell_type": "code",
   "execution_count": 25,
   "metadata": {},
   "outputs": [
    {
     "name": "stdout",
     "output_type": "stream",
     "text": [
      "final list -  [('A', 'z', '0'), ('B', 'y', '1'), ('C', 'x', '2'), ('D', 'w', '3'), ('E', 'v', '4'), ('F', 'u', '5'), ('G', 't', '6'), ('H', 's', '7'), ('I', 'r', '8'), ('J', 'q', '9')]\n"
     ]
    }
   ],
   "source": [
    "a = [chr(i) for i in range(65,91)]\n",
    "b = [chr(i) for i in range(97,123)]\n",
    "c = [chr(i) for i in range(48,58)]\n",
    "\n",
    "di=zip(a,sorted(b,reverse=True),c)\n",
    "di=list(di)\n",
    "res = sorted(di, key = lambda x: x[2]) \n",
    "      \n",
    "# printing result \n",
    "print(\"final list - \", str(res)) "
   ]
  },
  {
   "cell_type": "code",
   "execution_count": 41,
   "metadata": {},
   "outputs": [
    {
     "name": "stdout",
     "output_type": "stream",
     "text": [
      "{'d': 1, 'b': 2, 'c': 3, 'a': 4}\n"
     ]
    }
   ],
   "source": [
    "di={\"a\":4,\"b\":2,\"c\":3,\"d\":1}\n",
    "print(dict(sorted(di.items(), key = lambda x : x[1])))"
   ]
  }
 ],
 "metadata": {
  "kernelspec": {
   "display_name": "Python 3",
   "language": "python",
   "name": "python3"
  },
  "language_info": {
   "codemirror_mode": {
    "name": "ipython",
    "version": 3
   },
   "file_extension": ".py",
   "mimetype": "text/x-python",
   "name": "python",
   "nbconvert_exporter": "python",
   "pygments_lexer": "ipython3",
   "version": "3.7.4"
  }
 },
 "nbformat": 4,
 "nbformat_minor": 2
}
