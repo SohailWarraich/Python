{
 "cells": [
  {
   "cell_type": "markdown",
   "metadata": {},
   "source": [
    "# List"
   ]
  },
  {
   "cell_type": "code",
   "execution_count": 1,
   "metadata": {},
   "outputs": [
    {
     "data": {
      "text/plain": [
       "['__add__',\n",
       " '__class__',\n",
       " '__contains__',\n",
       " '__delattr__',\n",
       " '__delitem__',\n",
       " '__dir__',\n",
       " '__doc__',\n",
       " '__eq__',\n",
       " '__format__',\n",
       " '__ge__',\n",
       " '__getattribute__',\n",
       " '__getitem__',\n",
       " '__gt__',\n",
       " '__hash__',\n",
       " '__iadd__',\n",
       " '__imul__',\n",
       " '__init__',\n",
       " '__init_subclass__',\n",
       " '__iter__',\n",
       " '__le__',\n",
       " '__len__',\n",
       " '__lt__',\n",
       " '__mul__',\n",
       " '__ne__',\n",
       " '__new__',\n",
       " '__reduce__',\n",
       " '__reduce_ex__',\n",
       " '__repr__',\n",
       " '__reversed__',\n",
       " '__rmul__',\n",
       " '__setattr__',\n",
       " '__setitem__',\n",
       " '__sizeof__',\n",
       " '__str__',\n",
       " '__subclasshook__',\n",
       " 'append',\n",
       " 'clear',\n",
       " 'copy',\n",
       " 'count',\n",
       " 'extend',\n",
       " 'index',\n",
       " 'insert',\n",
       " 'pop',\n",
       " 'remove',\n",
       " 'reverse',\n",
       " 'sort']"
      ]
     },
     "execution_count": 1,
     "metadata": {},
     "output_type": "execute_result"
    }
   ],
   "source": [
    "dir(list)"
   ]
  },
  {
   "cell_type": "code",
   "execution_count": 6,
   "metadata": {},
   "outputs": [
    {
     "name": "stdout",
     "output_type": "stream",
     "text": [
      "A\n",
      "C\n",
      "3\n",
      "C\n"
     ]
    }
   ],
   "source": [
    "names=['A','B','C']\n",
    "print(names[0])\n",
    "print(names[2])\n",
    "print(len(names))\n",
    "print(names[-1])"
   ]
  },
  {
   "cell_type": "code",
   "execution_count": 10,
   "metadata": {},
   "outputs": [
    {
     "name": "stdout",
     "output_type": "stream",
     "text": [
      "['A']\n",
      "['A', 'B', 'C']\n"
     ]
    }
   ],
   "source": [
    "names=[]\n",
    "names.append('A')\n",
    "print(names)\n",
    "names.append('B')\n",
    "names.append('C')\n",
    "print(names)\n",
    "# append => Append object to the end of the list."
   ]
  },
  {
   "cell_type": "code",
   "execution_count": 12,
   "metadata": {},
   "outputs": [
    {
     "name": "stdout",
     "output_type": "stream",
     "text": [
      "['A', 'B', 'C', 'D']\n",
      "[]\n"
     ]
    }
   ],
   "source": [
    "names=['A','B','C','D']\n",
    "print(names)\n",
    "names.clear()    #in memory function\n",
    "print(names)"
   ]
  },
  {
   "cell_type": "code",
   "execution_count": 18,
   "metadata": {},
   "outputs": [
    {
     "name": "stdout",
     "output_type": "stream",
     "text": [
      "['Ali', 'Hamza', 'waqas', 'sheer']\n",
      "['Ali', 'Hamza', 'waqas', 'sheer']\n",
      "['Pakistan', 'Hamza', 'waqas', 'sheer', 'Zindabad']\n",
      "['Pakistan', 'Hamza', 'waqas', 'sheer', 'Zindabad']\n"
     ]
    }
   ],
   "source": [
    "names=['Ali','Hamza','waqas','sheer']\n",
    "names1=names       #Shallow copy having same address\n",
    "print(names1)\n",
    "print(names)\n",
    "names[0]='Pakistan'\n",
    "names1.append('Zindabad')\n",
    "print(names)\n",
    "print(names1)\n"
   ]
  },
  {
   "cell_type": "code",
   "execution_count": 22,
   "metadata": {},
   "outputs": [
    {
     "name": "stdout",
     "output_type": "stream",
     "text": [
      "['A', 'B', 'C', 'D']\n",
      "['Pakistan', 'B', 'C', 'D']\n",
      "['A', 'B', 'C', 'D', 'Zindabad']\n",
      "['Pakistan', 'B', 'C', 'D', 'Hello every one']\n"
     ]
    }
   ],
   "source": [
    "names=['A','B','C','D']\n",
    "names1=names.copy()        #Deep copy\n",
    "print(names1)\n",
    "names1.append('Zindabad')\n",
    "names[0]='Pakistan'\n",
    "print(names)\n",
    "print(names1)\n",
    "names.append(\"Hello every one\")\n",
    "print(names)"
   ]
  },
  {
   "cell_type": "code",
   "execution_count": 23,
   "metadata": {},
   "outputs": [
    {
     "data": {
      "text/plain": [
       "2"
      ]
     },
     "execution_count": 23,
     "metadata": {},
     "output_type": "execute_result"
    }
   ],
   "source": [
    "names=['a','b','c','d','e','f','a','d','e']\n",
    "names.count('a')"
   ]
  },
  {
   "cell_type": "code",
   "execution_count": 27,
   "metadata": {},
   "outputs": [
    {
     "name": "stdout",
     "output_type": "stream",
     "text": [
      "[1, 2, 4, 5, 7, 8, 9, 0]\n",
      "[1, 2, 4, 5, 7, 8, 9, 0]\n",
      "[1, 2, 4, 5, 7, 8, 9, 0]\n"
     ]
    }
   ],
   "source": [
    "l1=[1,2,4,5]\n",
    "l2=[7,8,9,0]\n",
    "print(l1+l2)  #Inline operation\n",
    "print(l1.__add__(l2))    #Inline opearation\n",
    "l3=l1+l2      #In memory operation\n",
    "print(l3)"
   ]
  },
  {
   "cell_type": "code",
   "execution_count": 30,
   "metadata": {},
   "outputs": [
    {
     "name": "stdout",
     "output_type": "stream",
     "text": [
      "[3, 4, 5, 6, 7, 8, 9, 7, 6, 5]\n",
      "[7, 8, 9, 7, 6, 5]\n"
     ]
    }
   ],
   "source": [
    "l1=[3,4,5,6]\n",
    "l2=[7,8,9,7,6,5]\n",
    "l1.extend(l2)       #In memory operation\n",
    "print(l1)\n",
    "print(l2)"
   ]
  },
  {
   "cell_type": "code",
   "execution_count": 35,
   "metadata": {},
   "outputs": [
    {
     "name": "stdout",
     "output_type": "stream",
     "text": [
      "7\n",
      "0\n",
      "5\n"
     ]
    }
   ],
   "source": [
    "l1=['a','b','c','d','e','f','d','a','c','f']\n",
    "print(l1.index('a',1))\n",
    "print(l1.index('a'))\n",
    "print(l1.index('f'))"
   ]
  },
  {
   "cell_type": "code",
   "execution_count": 2,
   "metadata": {},
   "outputs": [
    {
     "name": "stdout",
     "output_type": "stream",
     "text": [
      "['A']\n",
      "2\n",
      "1\n",
      "['b', 'c', 'd', 'a', 'A', 'B']\n"
     ]
    }
   ],
   "source": [
    "l1=[]\n",
    "l1.insert(1,'A')\n",
    "print(l1)\n",
    "l1.insert(5,'B')\n",
    "print(len(l1))\n",
    "print(l1.index('B'))\n",
    "l1.insert(0,\"a\")\n",
    "l1.insert(0,'b')\n",
    "l1.insert(1,'c')\n",
    "l1.insert(2,'d')\n",
    "print(l1)"
   ]
  },
  {
   "cell_type": "code",
   "execution_count": 5,
   "metadata": {},
   "outputs": [
    {
     "ename": "SyntaxError",
     "evalue": "invalid syntax (<ipython-input-5-54dc4914960e>, line 6)",
     "output_type": "error",
     "traceback": [
      "\u001b[1;36m  File \u001b[1;32m\"<ipython-input-5-54dc4914960e>\"\u001b[1;36m, line \u001b[1;32m6\u001b[0m\n\u001b[1;33m    names.append(del names[-1])\u001b[0m\n\u001b[1;37m                   ^\u001b[0m\n\u001b[1;31mSyntaxError\u001b[0m\u001b[1;31m:\u001b[0m invalid syntax\n"
     ]
    }
   ],
   "source": [
    "names=['a','b','c','d','e']\n",
    "names.append('z')\n",
    "print(names)\n",
    "names.append('y')\n",
    "print(names)\n",
    "names.append(del names[-1])\n",
    "print(names)"
   ]
  },
  {
   "cell_type": "code",
   "execution_count": 6,
   "metadata": {},
   "outputs": [
    {
     "name": "stdout",
     "output_type": "stream",
     "text": [
      "pakistan\n",
      "Zindabad\n",
      "None\n"
     ]
    }
   ],
   "source": [
    "a='pakistan'\n",
    "print(a)\n",
    "b=print('Zindabad')\n",
    "print(b)"
   ]
  },
  {
   "cell_type": "code",
   "execution_count": 13,
   "metadata": {},
   "outputs": [
    {
     "name": "stdout",
     "output_type": "stream",
     "text": [
      "5\n",
      "3\n"
     ]
    }
   ],
   "source": [
    "l1=[1,2,3,4,5]\n",
    "print(l1.pop())\n",
    "print(l1.pop(-2))"
   ]
  },
  {
   "cell_type": "code",
   "execution_count": 27,
   "metadata": {},
   "outputs": [
    {
     "name": "stdout",
     "output_type": "stream",
     "text": [
      "None\n",
      "['a', 'b', 'd']\n",
      "d\n",
      "['a', 'b', 'Z']\n",
      "['a', 'b', 'Z', 'x', 'y']\n",
      "['a', 'b', 'Z', 'x']\n",
      "['y']\n"
     ]
    }
   ],
   "source": [
    "names=[]\n",
    "l1=['a','b','c','d']\n",
    "a=l1.remove('c')     #non return\n",
    "print(a)\n",
    "print(l1)\n",
    "b=l1.pop()       # return value\n",
    "print(b)\n",
    "l1.append(\"Z\")\n",
    "print(l1)\n",
    "l1.append(\"x\")\n",
    "l1.append(\"y\")\n",
    "print(l1)\n",
    "a=l1.pop()\n",
    "names.append(a)\n",
    "print(l1)\n",
    "print(names)"
   ]
  },
  {
   "cell_type": "code",
   "execution_count": 33,
   "metadata": {},
   "outputs": [
    {
     "name": "stdout",
     "output_type": "stream",
     "text": [
      "[9, 8, 7, 6, 5, 4, 3, 2, 1]\n"
     ]
    }
   ],
   "source": [
    "l1=[1,2,3,4,5,6,7,8,9]\n",
    "l1.reverse()   #non return in memory\n",
    "print(l1)"
   ]
  },
  {
   "cell_type": "code",
   "execution_count": 37,
   "metadata": {},
   "outputs": [
    {
     "name": "stdout",
     "output_type": "stream",
     "text": [
      "[1, 2, 2, 3, 4, 4, 5, 5, 6, 7, 7, 7, 8]\n",
      "['a', 'c', 'f', 'g', 'd', 'c', 'e', 'j', 'k', 'l']\n",
      "['a', 'c', 'c', 'd', 'e', 'f', 'g', 'j', 'k', 'l']\n",
      "['l', 'k', 'j', 'g', 'f', 'e', 'd', 'c', 'c', 'a']\n"
     ]
    }
   ],
   "source": [
    "a=[7,5,7,8,5,4,3,2,2,1,4,6,7]\n",
    "a.sort()\n",
    "print(a)\n",
    "b=['a','c','f','g','d','c','e','j','k','l']\n",
    "print(b)\n",
    "b.sort()\n",
    "print(b)\n",
    "b.reverse()\n",
    "print(b)"
   ]
  },
  {
   "cell_type": "code",
   "execution_count": 41,
   "metadata": {},
   "outputs": [
    {
     "name": "stdout",
     "output_type": "stream",
     "text": [
      "['y', 'w', 'r', 'q', 'k', 'h', 'g', 'e', 'd', 'c', 'b', 'a']\n"
     ]
    }
   ],
   "source": [
    "a=['a','b','c','d','g','h','k','y','r','e','w','q']\n",
    "a.sort(reverse=True)\n",
    "print(a)"
   ]
  },
  {
   "cell_type": "code",
   "execution_count": 44,
   "metadata": {},
   "outputs": [
    {
     "name": "stdout",
     "output_type": "stream",
     "text": [
      "['a', 'b', 'c', 'd', 'e', 'f', 'g', ['a', 'b', 'c', 'd', 'e', 'f', 'g', 'h', 'i', 'j', 'k', 'l']]\n"
     ]
    }
   ],
   "source": [
    "a=['a','b','c','d','e','f','g']\n",
    "x=a.__add__(['h','i','j','k','l'])\n",
    "a.append(x)\n",
    "print(a)\n"
   ]
  },
  {
   "cell_type": "code",
   "execution_count": 47,
   "metadata": {},
   "outputs": [
    {
     "data": {
      "text/plain": [
       "[1, 2, 4, 7, 8, 9]"
      ]
     },
     "execution_count": 47,
     "metadata": {},
     "output_type": "execute_result"
    }
   ],
   "source": [
    "b=[1,2,4]\n",
    "b.__add__([7,8,9])\n",
    "# print(b)"
   ]
  },
  {
   "cell_type": "code",
   "execution_count": 51,
   "metadata": {},
   "outputs": [
    {
     "name": "stdout",
     "output_type": "stream",
     "text": [
      "<class 'list'>\n",
      "[]\n"
     ]
    }
   ],
   "source": [
    "v=['1','s','f','g']\n",
    "print(v.__class__)\n",
    "print(v.__class__())"
   ]
  },
  {
   "cell_type": "code",
   "execution_count": 53,
   "metadata": {},
   "outputs": [
    {
     "data": {
      "text/plain": [
       "True"
      ]
     },
     "execution_count": 53,
     "metadata": {},
     "output_type": "execute_result"
    }
   ],
   "source": [
    "l1=['a','d','f','g','h','j','f','g']\n",
    "l1.__contains__('f')"
   ]
  },
  {
   "cell_type": "code",
   "execution_count": 54,
   "metadata": {},
   "outputs": [
    {
     "data": {
      "text/plain": [
       "True"
      ]
     },
     "execution_count": 54,
     "metadata": {},
     "output_type": "execute_result"
    }
   ],
   "source": [
    "l1=['a','d','f','g','h','j','f','g']\n",
    "'f'in l1"
   ]
  },
  {
   "cell_type": "code",
   "execution_count": 57,
   "metadata": {},
   "outputs": [
    {
     "name": "stdout",
     "output_type": "stream",
     "text": [
      "['d', 'f', 'g', 'h', 'j', 'f', 'g']\n"
     ]
    }
   ],
   "source": [
    "l1=['a','d','f','g','h','j','f','g']\n",
    "l1.__delitem__(0)\n",
    "print(l1)\n"
   ]
  },
  {
   "cell_type": "code",
   "execution_count": 58,
   "metadata": {},
   "outputs": [
    {
     "data": {
      "text/plain": [
       "'Built-in mutable sequence.\\n\\nIf no argument is given, the constructor creates a new empty list.\\nThe argument must be an iterable if specified.'"
      ]
     },
     "execution_count": 58,
     "metadata": {},
     "output_type": "execute_result"
    }
   ],
   "source": [
    "l1.__doc__"
   ]
  },
  {
   "cell_type": "code",
   "execution_count": 67,
   "metadata": {},
   "outputs": [
    {
     "name": "stdout",
     "output_type": "stream",
     "text": [
      "True\n",
      "True\n",
      "3\n"
     ]
    }
   ],
   "source": [
    "l1 = [5,8,9]\n",
    "l2 = [3,2,1,7,'q']\n",
    "l3 = [7,9,10]\n",
    "l4 = [5,8,9]\n",
    "\n",
    "print(l1.__eq__(l4))\n",
    "print(l1.__ge__(l2))\n",
    "print(l1.__len__())\n",
    "# confusion whats going on in above functions"
   ]
  },
  {
   "cell_type": "code",
   "execution_count": 68,
   "metadata": {},
   "outputs": [
    {
     "name": "stdout",
     "output_type": "stream",
     "text": [
      "Help on class list in module builtins:\n",
      "\n",
      "class list(object)\n",
      " |  list(iterable=(), /)\n",
      " |  \n",
      " |  Built-in mutable sequence.\n",
      " |  \n",
      " |  If no argument is given, the constructor creates a new empty list.\n",
      " |  The argument must be an iterable if specified.\n",
      " |  \n",
      " |  Methods defined here:\n",
      " |  \n",
      " |  __add__(self, value, /)\n",
      " |      Return self+value.\n",
      " |  \n",
      " |  __contains__(self, key, /)\n",
      " |      Return key in self.\n",
      " |  \n",
      " |  __delitem__(self, key, /)\n",
      " |      Delete self[key].\n",
      " |  \n",
      " |  __eq__(self, value, /)\n",
      " |      Return self==value.\n",
      " |  \n",
      " |  __ge__(self, value, /)\n",
      " |      Return self>=value.\n",
      " |  \n",
      " |  __getattribute__(self, name, /)\n",
      " |      Return getattr(self, name).\n",
      " |  \n",
      " |  __getitem__(...)\n",
      " |      x.__getitem__(y) <==> x[y]\n",
      " |  \n",
      " |  __gt__(self, value, /)\n",
      " |      Return self>value.\n",
      " |  \n",
      " |  __iadd__(self, value, /)\n",
      " |      Implement self+=value.\n",
      " |  \n",
      " |  __imul__(self, value, /)\n",
      " |      Implement self*=value.\n",
      " |  \n",
      " |  __init__(self, /, *args, **kwargs)\n",
      " |      Initialize self.  See help(type(self)) for accurate signature.\n",
      " |  \n",
      " |  __iter__(self, /)\n",
      " |      Implement iter(self).\n",
      " |  \n",
      " |  __le__(self, value, /)\n",
      " |      Return self<=value.\n",
      " |  \n",
      " |  __len__(self, /)\n",
      " |      Return len(self).\n",
      " |  \n",
      " |  __lt__(self, value, /)\n",
      " |      Return self<value.\n",
      " |  \n",
      " |  __mul__(self, value, /)\n",
      " |      Return self*value.\n",
      " |  \n",
      " |  __ne__(self, value, /)\n",
      " |      Return self!=value.\n",
      " |  \n",
      " |  __repr__(self, /)\n",
      " |      Return repr(self).\n",
      " |  \n",
      " |  __reversed__(self, /)\n",
      " |      Return a reverse iterator over the list.\n",
      " |  \n",
      " |  __rmul__(self, value, /)\n",
      " |      Return value*self.\n",
      " |  \n",
      " |  __setitem__(self, key, value, /)\n",
      " |      Set self[key] to value.\n",
      " |  \n",
      " |  __sizeof__(self, /)\n",
      " |      Return the size of the list in memory, in bytes.\n",
      " |  \n",
      " |  append(self, object, /)\n",
      " |      Append object to the end of the list.\n",
      " |  \n",
      " |  clear(self, /)\n",
      " |      Remove all items from list.\n",
      " |  \n",
      " |  copy(self, /)\n",
      " |      Return a shallow copy of the list.\n",
      " |  \n",
      " |  count(self, value, /)\n",
      " |      Return number of occurrences of value.\n",
      " |  \n",
      " |  extend(self, iterable, /)\n",
      " |      Extend list by appending elements from the iterable.\n",
      " |  \n",
      " |  index(self, value, start=0, stop=9223372036854775807, /)\n",
      " |      Return first index of value.\n",
      " |      \n",
      " |      Raises ValueError if the value is not present.\n",
      " |  \n",
      " |  insert(self, index, object, /)\n",
      " |      Insert object before index.\n",
      " |  \n",
      " |  pop(self, index=-1, /)\n",
      " |      Remove and return item at index (default last).\n",
      " |      \n",
      " |      Raises IndexError if list is empty or index is out of range.\n",
      " |  \n",
      " |  remove(self, value, /)\n",
      " |      Remove first occurrence of value.\n",
      " |      \n",
      " |      Raises ValueError if the value is not present.\n",
      " |  \n",
      " |  reverse(self, /)\n",
      " |      Reverse *IN PLACE*.\n",
      " |  \n",
      " |  sort(self, /, *, key=None, reverse=False)\n",
      " |      Stable sort *IN PLACE*.\n",
      " |  \n",
      " |  ----------------------------------------------------------------------\n",
      " |  Static methods defined here:\n",
      " |  \n",
      " |  __new__(*args, **kwargs) from builtins.type\n",
      " |      Create and return a new object.  See help(type) for accurate signature.\n",
      " |  \n",
      " |  ----------------------------------------------------------------------\n",
      " |  Data and other attributes defined here:\n",
      " |  \n",
      " |  __hash__ = None\n",
      "\n"
     ]
    }
   ],
   "source": [
    "help(list)"
   ]
  },
  {
   "cell_type": "code",
   "execution_count": 69,
   "metadata": {},
   "outputs": [
    {
     "data": {
      "text/plain": [
       "['__add__',\n",
       " '__class__',\n",
       " '__contains__',\n",
       " '__delattr__',\n",
       " '__delitem__',\n",
       " '__dir__',\n",
       " '__doc__',\n",
       " '__eq__',\n",
       " '__format__',\n",
       " '__ge__',\n",
       " '__getattribute__',\n",
       " '__getitem__',\n",
       " '__gt__',\n",
       " '__hash__',\n",
       " '__iadd__',\n",
       " '__imul__',\n",
       " '__init__',\n",
       " '__init_subclass__',\n",
       " '__iter__',\n",
       " '__le__',\n",
       " '__len__',\n",
       " '__lt__',\n",
       " '__mul__',\n",
       " '__ne__',\n",
       " '__new__',\n",
       " '__reduce__',\n",
       " '__reduce_ex__',\n",
       " '__repr__',\n",
       " '__reversed__',\n",
       " '__rmul__',\n",
       " '__setattr__',\n",
       " '__setitem__',\n",
       " '__sizeof__',\n",
       " '__str__',\n",
       " '__subclasshook__',\n",
       " 'append',\n",
       " 'clear',\n",
       " 'copy',\n",
       " 'count',\n",
       " 'extend',\n",
       " 'index',\n",
       " 'insert',\n",
       " 'pop',\n",
       " 'remove',\n",
       " 'reverse',\n",
       " 'sort']"
      ]
     },
     "execution_count": 69,
     "metadata": {},
     "output_type": "execute_result"
    }
   ],
   "source": [
    "dir(list)"
   ]
  },
  {
   "cell_type": "markdown",
   "metadata": {},
   "source": [
    "# Tuple"
   ]
  },
  {
   "cell_type": "code",
   "execution_count": 73,
   "metadata": {},
   "outputs": [
    {
     "name": "stdout",
     "output_type": "stream",
     "text": [
      "<class 'tuple'>\n",
      "<class 'tuple'>\n"
     ]
    }
   ],
   "source": [
    "l1=(1,2,3)\n",
    "print(type(l1))\n",
    "l2=('a',)\n",
    "print(type(l2))"
   ]
  },
  {
   "cell_type": "code",
   "execution_count": 78,
   "metadata": {},
   "outputs": [
    {
     "name": "stdout",
     "output_type": "stream",
     "text": [
      "<class 'list'>\n",
      "['pakistan', 'b', 'c', 'd', 'e']\n",
      "5\n",
      "['pakistan', 'b', 'c', 'd', 'zindabad']\n"
     ]
    }
   ],
   "source": [
    "l1=['a','b','c','d','e']\n",
    "print(type(l1))\n",
    "l1[0]='pakistan'\n",
    "print(l1)\n",
    "print(len(l1))\n",
    "l1[4]='zindabad'\n",
    "print(l1)"
   ]
  },
  {
   "cell_type": "code",
   "execution_count": 81,
   "metadata": {},
   "outputs": [
    {
     "name": "stdout",
     "output_type": "stream",
     "text": [
      "<class 'tuple'>\n",
      "('a', 'b', 'c', 'd', 'e')\n",
      "('lahore', 'b', 'islamabad', 'd', 'e')\n"
     ]
    }
   ],
   "source": [
    "l1=('a','b','c','d','e')\n",
    "print(type(l1))\n",
    "print(l1)\n",
    "l1=('lahore','b','islamabad','d','e')\n",
    "print(l1)"
   ]
  },
  {
   "cell_type": "markdown",
   "metadata": {},
   "source": [
    "# Loop While for"
   ]
  },
  {
   "cell_type": "code",
   "execution_count": 83,
   "metadata": {},
   "outputs": [
    {
     "name": "stdout",
     "output_type": "stream",
     "text": [
      "Pakistan Zindabad 1\n",
      "Pakistan Zindabad 2\n",
      "Pakistan Zindabad 3\n",
      "Pakistan Zindabad 4\n",
      "Pakistan Zindabad 5\n",
      "Pakistan Zindabad 6\n",
      "Pakistan Zindabad 7\n",
      "Pakistan Zindabad 8\n",
      "Pakistan Zindabad 9\n",
      "Pakistan Zindabad 10\n"
     ]
    }
   ],
   "source": [
    "counter=1\n",
    "while counter<=10:\n",
    "    print(\"Pakistan Zindabad\",counter)\n",
    "    counter+=1"
   ]
  },
  {
   "cell_type": "code",
   "execution_count": 84,
   "metadata": {},
   "outputs": [
    {
     "data": {
      "text/plain": [
       "[1, 2, 3, 4, 5, 6, 7, 8, 9, 10]"
      ]
     },
     "execution_count": 84,
     "metadata": {},
     "output_type": "execute_result"
    }
   ],
   "source": [
    "list(range(1,11))"
   ]
  },
  {
   "cell_type": "code",
   "execution_count": 87,
   "metadata": {},
   "outputs": [
    {
     "name": "stdout",
     "output_type": "stream",
     "text": [
      "pakistan 1\n",
      "pakistan 2\n",
      "pakistan 3\n",
      "pakistan 4\n",
      "pakistan 5\n",
      "pakistan 6\n",
      "pakistan 7\n",
      "pakistan 8\n",
      "pakistan 9\n",
      "pakistan 10\n"
     ]
    }
   ],
   "source": [
    "for i in range(1,11):\n",
    "    print(\"pakistan\",i)"
   ]
  },
  {
   "cell_type": "code",
   "execution_count": 90,
   "metadata": {},
   "outputs": [
    {
     "data": {
      "text/plain": [
       "['pakistan 1',\n",
       " 'pakistan 2',\n",
       " 'pakistan 3',\n",
       " 'pakistan 4',\n",
       " 'pakistan 5',\n",
       " 'pakistan 6',\n",
       " 'pakistan 7',\n",
       " 'pakistan 8',\n",
       " 'pakistan 9',\n",
       " 'pakistan 10']"
      ]
     },
     "execution_count": 90,
     "metadata": {},
     "output_type": "execute_result"
    }
   ],
   "source": [
    "['pakistan '+str(i) for i in range (1,11)]"
   ]
  },
  {
   "cell_type": "code",
   "execution_count": 92,
   "metadata": {},
   "outputs": [
    {
     "name": "stdout",
     "output_type": "stream",
     "text": [
      "2 X 1 = 2\n",
      "2 X 2 = 4\n",
      "2 X 3 = 6\n",
      "2 X 4 = 8\n",
      "2 X 5 = 10\n",
      "2 X 6 = 12\n",
      "2 X 7 = 14\n",
      "2 X 8 = 16\n",
      "2 X 9 = 18\n",
      "2 X 10 = 20\n"
     ]
    }
   ],
   "source": [
    "for i in range (1,11):\n",
    "    print(f'2 X {i} = {2*i}')"
   ]
  },
  {
   "cell_type": "code",
   "execution_count": 93,
   "metadata": {},
   "outputs": [
    {
     "name": "stdout",
     "output_type": "stream",
     "text": [
      "Enter which tabel do you want to print : 7\n",
      "7 X 1 = 7\n",
      "7 X 2 = 14\n",
      "7 X 3 = 21\n",
      "7 X 4 = 28\n",
      "7 X 5 = 35\n",
      "7 X 6 = 42\n",
      "7 X 7 = 49\n",
      "7 X 8 = 56\n",
      "7 X 9 = 63\n",
      "7 X 10 = 70\n"
     ]
    }
   ],
   "source": [
    "tab=int(input(\"Enter which tabel do you want to print : \"))\n",
    "for i in range(1,11):\n",
    "    print(f\"{tab} X {i} = {tab*i}\")"
   ]
  },
  {
   "cell_type": "code",
   "execution_count": 98,
   "metadata": {},
   "outputs": [
    {
     "name": "stdout",
     "output_type": "stream",
     "text": [
      "how many table do you want to print from table 2 : 6\n",
      "1X1=1\t2X1=2\t3X1=3\t4X1=4\t5X1=5\t6X1=6\t\n",
      "1X2=2\t2X2=4\t3X2=6\t4X2=8\t5X2=10\t6X2=12\t\n",
      "1X3=3\t2X3=6\t3X3=9\t4X3=12\t5X3=15\t6X3=18\t\n",
      "1X4=4\t2X4=8\t3X4=12\t4X4=16\t5X4=20\t6X4=24\t\n",
      "1X5=5\t2X5=10\t3X5=15\t4X5=20\t5X5=25\t6X5=30\t\n",
      "1X6=6\t2X6=12\t3X6=18\t4X6=24\t5X6=30\t6X6=36\t\n",
      "1X7=7\t2X7=14\t3X7=21\t4X7=28\t5X7=35\t6X7=42\t\n",
      "1X8=8\t2X8=16\t3X8=24\t4X8=32\t5X8=40\t6X8=48\t\n",
      "1X9=9\t2X9=18\t3X9=27\t4X9=36\t5X9=45\t6X9=54\t\n",
      "1X10=10\t2X10=20\t3X10=30\t4X10=40\t5X10=50\t6X10=60\t\n"
     ]
    }
   ],
   "source": [
    "user = int(input(\"how many table do you want to print from table 2 : \"))\n",
    "for r in range(1,11):\n",
    "    for t in range(1, user+1):\n",
    "        print(f'{t}X{r}={r*t}', end='\\t')\n",
    "#         print()\n",
    "    print()"
   ]
  },
  {
   "cell_type": "code",
   "execution_count": null,
   "metadata": {},
   "outputs": [],
   "source": []
  }
 ],
 "metadata": {
  "kernelspec": {
   "display_name": "Python 3",
   "language": "python",
   "name": "python3"
  },
  "language_info": {
   "codemirror_mode": {
    "name": "ipython",
    "version": 3
   },
   "file_extension": ".py",
   "mimetype": "text/x-python",
   "name": "python",
   "nbconvert_exporter": "python",
   "pygments_lexer": "ipython3",
   "version": "3.7.4"
  }
 },
 "nbformat": 4,
 "nbformat_minor": 2
}
