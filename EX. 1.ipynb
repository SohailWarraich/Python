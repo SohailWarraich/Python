{
 "cells": [
  {
   "cell_type": "code",
   "execution_count": 1,
   "metadata": {},
   "outputs": [
    {
     "name": "stdout",
     "output_type": "stream",
     "text": [
      "Hello world\n"
     ]
    }
   ],
   "source": [
    "print(\"Hello world\")"
   ]
  },
  {
   "cell_type": "code",
   "execution_count": 3,
   "metadata": {},
   "outputs": [
    {
     "name": "stdout",
     "output_type": "stream",
     "text": [
      "1.1111111111111112\n",
      "1.0\n",
      "<class 'bool'>\n"
     ]
    }
   ],
   "source": [
    "a=5\n",
    "b=4.5\n",
    "c=True\n",
    "d=a/b\n",
    "r=a//b\n",
    "print(d)\n",
    "print(r)\n",
    "print(type(c))"
   ]
  },
  {
   "cell_type": "code",
   "execution_count": 1,
   "metadata": {},
   "outputs": [
    {
     "name": "stdout",
     "output_type": "stream",
     "text": [
      "Hello World\n",
      "Hello Pakistan\n"
     ]
    }
   ],
   "source": [
    "print(\"Hello World\")\n",
    "print(\"Hello Pakistan\")"
   ]
  },
  {
   "cell_type": "code",
   "execution_count": 2,
   "metadata": {},
   "outputs": [
    {
     "name": "stdout",
     "output_type": "stream",
     "text": [
      "Enter your name : sohail\n",
      "Enter your father name : Arshad\n",
      "Enter your age : 23\n",
      "University IIUI\n",
      "\n",
      "Name : sohail\n",
      "Father Name : Arshad\n",
      "Age : 23\n",
      "University : IIUI\n",
      "\n",
      "\n"
     ]
    }
   ],
   "source": [
    "name=input(\"Enter your name : \")\n",
    "fname=input(\"Enter your father name : \")\n",
    "age=input(\"Enter your age : \")\n",
    "uni=input(\"University \")\n",
    "\n",
    "card=f'''\n",
    "Name : {name}\n",
    "Father Name : {fname}\n",
    "Age : {age}\n",
    "University : {uni}\n",
    "\n",
    "'''\n",
    "print(card)\n",
    "\n"
   ]
  },
  {
   "cell_type": "code",
   "execution_count": 5,
   "metadata": {},
   "outputs": [
    {
     "name": "stdout",
     "output_type": "stream",
     "text": [
      "Enter your name : sohail\n",
      "Enter your father name : Arshad\n",
      "Enter your age : 23\n",
      "University IIUI\n",
      "\n",
      "Name : sohail\n",
      "Father Name : Arshad\n",
      "Age : 23\n",
      "University : IIUI\n",
      "\n",
      "\n"
     ]
    }
   ],
   "source": [
    "name=input(\"Enter your name : \")\n",
    "fname=input(\"Enter your father name : \")\n",
    "age=input(\"Enter your age : \")\n",
    "uni=input(\"University \")\n",
    "\n",
    "card='''\n",
    "Name : {}\n",
    "Father Name : {}\n",
    "Age : {}\n",
    "University : {}\n",
    "\n",
    "'''\n",
    "card=card.format(name,fname,age,uni)\n",
    "print(card)"
   ]
  },
  {
   "cell_type": "code",
   "execution_count": 14,
   "metadata": {},
   "outputs": [
    {
     "name": "stdout",
     "output_type": "stream",
     "text": [
      "Enter your name : sohail\n",
      "Enter your father name : Arshad\n",
      "University Bahria Islamabad\n",
      "Enter your marks in physics : 56\n",
      "Enter your marks in Chemistry : 76\n",
      "Enter your marks in Mathematics : 87\n",
      "Enter your marks in English : 98\n",
      "\n",
      "PIAIC Islamabad\n",
      "Name : sohail\n",
      "Father Name : Arshad\n",
      "University : Bahria Islamabad\n",
      "Physics : 56\n",
      "Chemistry : 76\n",
      "Math : 87\n",
      "English : 98\n",
      "\n",
      "\n",
      "Your total marks are : 317\n",
      "You got 79.25 % in your exam\n"
     ]
    }
   ],
   "source": [
    "# Print(\"PIAIC Islamabad\")\n",
    "name=input(\"Enter your name : \")\n",
    "fname=input(\"Enter your father name : \")\n",
    "uni=input(\"University \")\n",
    "phy=int(input(\"Enter your marks in physics : \"))\n",
    "che=int(input(\"Enter your marks in Chemistry : \"))\n",
    "ma=int(input(\"Enter your marks in Mathematics : \"))\n",
    "eng=int(input(\"Enter your marks in English : \"))\n",
    "\n",
    "reportCard='''\n",
    "PIAIC Islamabad\n",
    "Name : {}\n",
    "Father Name : {}\n",
    "University : {}\n",
    "Physics : {}\n",
    "Chemistry : {}\n",
    "Math : {}\n",
    "English : {}\n",
    "\n",
    "'''\n",
    "Total=phy+che+ma+eng\n",
    "avg=Total/4\n",
    "reportCard=reportCard.format(name,fname,uni,phy,che,ma,eng)\n",
    "print(reportCard)\n",
    "print(f\"Your total marks are : {Total}\")\n",
    "print(\"You got {} % in your exam\".format(avg))"
   ]
  },
  {
   "cell_type": "code",
   "execution_count": 15,
   "metadata": {},
   "outputs": [],
   "source": [
    "print?"
   ]
  },
  {
   "cell_type": "code",
   "execution_count": 16,
   "metadata": {},
   "outputs": [
    {
     "name": "stdout",
     "output_type": "stream",
     "text": [
      "Help on built-in function print in module builtins:\n",
      "\n",
      "print(...)\n",
      "    print(value, ..., sep=' ', end='\\n', file=sys.stdout, flush=False)\n",
      "    \n",
      "    Prints the values to a stream, or to sys.stdout by default.\n",
      "    Optional keyword arguments:\n",
      "    file:  a file-like object (stream); defaults to the current sys.stdout.\n",
      "    sep:   string inserted between values, default a space.\n",
      "    end:   string appended after the last value, default a newline.\n",
      "    flush: whether to forcibly flush the stream.\n",
      "\n"
     ]
    }
   ],
   "source": [
    "help(print)"
   ]
  },
  {
   "cell_type": "code",
   "execution_count": 17,
   "metadata": {},
   "outputs": [],
   "source": [
    "?print"
   ]
  },
  {
   "cell_type": "markdown",
   "metadata": {},
   "source": [
    "# Build in Data Types"
   ]
  },
  {
   "cell_type": "code",
   "execution_count": 22,
   "metadata": {},
   "outputs": [
    {
     "name": "stdout",
     "output_type": "stream",
     "text": [
      "Welcome to Pakistan!\n",
      "<class 'str'>\n",
      "5\n",
      "<class 'int'>\n",
      "2.5\n",
      "<class 'float'>\n",
      "True\n",
      "<class 'bool'>\n",
      "[1, 2, 3, 'sohail', 'islamabad']\n",
      "<class 'list'>\n",
      "{'name': 'sohail', 'father name': 'Muhammad Arshad', 'Age': 23}\n",
      "<class 'dict'>\n",
      "(5, 6, 4, 4, 'arshad', 'lahore')\n",
      "<class 'tuple'>\n"
     ]
    }
   ],
   "source": [
    "a=5\n",
    "b=2.5\n",
    "c=True\n",
    "d=False\n",
    "lst=[1,2,3,'sohail','islamabad']\n",
    "typ=(5,6,4,4,'arshad','lahore')\n",
    "dic={'name':'sohail','father name':'Muhammad Arshad','Age':23}\n",
    "string=\"Welcome to Pakistan!\"\n",
    "print(string)\n",
    "print(type(string))\n",
    "print(a)\n",
    "print(type(a))\n",
    "print(b)\n",
    "print(type(b))\n",
    "print(c)\n",
    "print(type(c))\n",
    "print(lst)\n",
    "print(type(lst))\n",
    "print(dic)\n",
    "print(type(dic))\n",
    "print(typ)\n",
    "print(type(typ))"
   ]
  },
  {
   "cell_type": "code",
   "execution_count": null,
   "metadata": {},
   "outputs": [],
   "source": []
  }
 ],
 "metadata": {
  "kernelspec": {
   "display_name": "Python 3",
   "language": "python",
   "name": "python3"
  },
  "language_info": {
   "codemirror_mode": {
    "name": "ipython",
    "version": 3
   },
   "file_extension": ".py",
   "mimetype": "text/x-python",
   "name": "python",
   "nbconvert_exporter": "python",
   "pygments_lexer": "ipython3",
   "version": "3.7.4"
  }
 },
 "nbformat": 4,
 "nbformat_minor": 2
}
