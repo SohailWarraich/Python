{
 "cells": [
  {
   "cell_type": "code",
   "execution_count": 1,
   "metadata": {},
   "outputs": [
    {
     "name": "stdout",
     "output_type": "stream",
     "text": [
      "The Zen of Python, by Tim Peters\n",
      "\n",
      "Beautiful is better than ugly.\n",
      "Explicit is better than implicit.\n",
      "Simple is better than complex.\n",
      "Complex is better than complicated.\n",
      "Flat is better than nested.\n",
      "Sparse is better than dense.\n",
      "Readability counts.\n",
      "Special cases aren't special enough to break the rules.\n",
      "Although practicality beats purity.\n",
      "Errors should never pass silently.\n",
      "Unless explicitly silenced.\n",
      "In the face of ambiguity, refuse the temptation to guess.\n",
      "There should be one-- and preferably only one --obvious way to do it.\n",
      "Although that way may not be obvious at first unless you're Dutch.\n",
      "Now is better than never.\n",
      "Although never is often better than *right* now.\n",
      "If the implementation is hard to explain, it's a bad idea.\n",
      "If the implementation is easy to explain, it may be a good idea.\n",
      "Namespaces are one honking great idea -- let's do more of those!\n"
     ]
    }
   ],
   "source": [
    "import this"
   ]
  },
  {
   "cell_type": "raw",
   "metadata": {},
   "source": [
    "5 + 8 # Operation\n",
    "#Operators\n",
    "    # +, - ,/ , * , %, ** \n",
    "    # = , +=, -=, /=, *=, %=\n",
    "    # == , >, <, >=, <=\n",
    "# 5, 8 Oprands"
   ]
  },
  {
   "cell_type": "code",
   "execution_count": 2,
   "metadata": {},
   "outputs": [
    {
     "data": {
      "text/plain": [
       "8.8"
      ]
     },
     "execution_count": 2,
     "metadata": {},
     "output_type": "execute_result"
    }
   ],
   "source": [
    "# PEMDAS \n",
    "5+7-8*2/5"
   ]
  },
  {
   "cell_type": "code",
   "execution_count": 3,
   "metadata": {},
   "outputs": [
    {
     "data": {
      "text/plain": [
       "369.5"
      ]
     },
     "execution_count": 3,
     "metadata": {},
     "output_type": "execute_result"
    }
   ],
   "source": [
    "3*3**4/4*6-3+8"
   ]
  },
  {
   "cell_type": "code",
   "execution_count": 6,
   "metadata": {},
   "outputs": [
    {
     "name": "stdout",
     "output_type": "stream",
     "text": [
      "140735714337392\n",
      "140735714337392\n",
      "10\n",
      "140735714337456\n"
     ]
    }
   ],
   "source": [
    "a=8\n",
    "b=8\n",
    "print(id(a))\n",
    "print(id(b))\n",
    "a+=2\n",
    "print(a)\n",
    "print(id(a))"
   ]
  },
  {
   "cell_type": "code",
   "execution_count": 7,
   "metadata": {},
   "outputs": [
    {
     "data": {
      "text/plain": [
       "int"
      ]
     },
     "execution_count": 7,
     "metadata": {},
     "output_type": "execute_result"
    }
   ],
   "source": [
    "a=6\n",
    "type(a)"
   ]
  },
  {
   "cell_type": "code",
   "execution_count": 8,
   "metadata": {},
   "outputs": [
    {
     "data": {
      "text/plain": [
       "str"
      ]
     },
     "execution_count": 8,
     "metadata": {},
     "output_type": "execute_result"
    }
   ],
   "source": [
    "a='2'\n",
    "type(a)"
   ]
  },
  {
   "cell_type": "code",
   "execution_count": 9,
   "metadata": {},
   "outputs": [
    {
     "data": {
      "text/plain": [
       "str"
      ]
     },
     "execution_count": 9,
     "metadata": {},
     "output_type": "execute_result"
    }
   ],
   "source": [
    "a='''7'''\n",
    "type(a)"
   ]
  },
  {
   "cell_type": "code",
   "execution_count": 10,
   "metadata": {},
   "outputs": [
    {
     "data": {
      "text/plain": [
       "'24'"
      ]
     },
     "execution_count": 10,
     "metadata": {},
     "output_type": "execute_result"
    }
   ],
   "source": [
    "'2'+'4'"
   ]
  },
  {
   "cell_type": "code",
   "execution_count": 11,
   "metadata": {},
   "outputs": [
    {
     "data": {
      "text/plain": [
       "'pakistanpakistan'"
      ]
     },
     "execution_count": 11,
     "metadata": {},
     "output_type": "execute_result"
    }
   ],
   "source": [
    "a='pakistan'\n",
    "a*2"
   ]
  },
  {
   "cell_type": "code",
   "execution_count": 20,
   "metadata": {},
   "outputs": [
    {
     "name": "stdout",
     "output_type": "stream",
     "text": [
      "<class 'list'>\n",
      "200\n",
      "junaid\n",
      "5\n",
      "['junaid', 200, 'waqas', 'hamza', 'ali']\n"
     ]
    }
   ],
   "source": [
    "name=['ali','hamza','waqas',200,'junaid']\n",
    "print(type(name))\n",
    "print(name[3])\n",
    "print(name[-1])\n",
    "print(len(name))\n",
    "print(name[::-1])"
   ]
  },
  {
   "cell_type": "code",
   "execution_count": 22,
   "metadata": {},
   "outputs": [
    {
     "data": {
      "text/plain": [
       "tuple"
      ]
     },
     "execution_count": 22,
     "metadata": {},
     "output_type": "execute_result"
    }
   ],
   "source": [
    "name=('ali','hamza','zafar',32)\n",
    "type(name)"
   ]
  },
  {
   "cell_type": "code",
   "execution_count": 24,
   "metadata": {},
   "outputs": [
    {
     "name": "stdout",
     "output_type": "stream",
     "text": [
      "<class 'set'>\n"
     ]
    },
    {
     "ename": "TypeError",
     "evalue": "'set' object is not subscriptable",
     "output_type": "error",
     "traceback": [
      "\u001b[1;31m---------------------------------------------------------------------------\u001b[0m",
      "\u001b[1;31mTypeError\u001b[0m                                 Traceback (most recent call last)",
      "\u001b[1;32m<ipython-input-24-f79de97386f8>\u001b[0m in \u001b[0;36m<module>\u001b[1;34m\u001b[0m\n\u001b[0;32m      1\u001b[0m \u001b[0mcity\u001b[0m\u001b[1;33m=\u001b[0m\u001b[1;33m{\u001b[0m\u001b[1;34m'karachi'\u001b[0m\u001b[1;33m,\u001b[0m\u001b[1;34m'lahore'\u001b[0m\u001b[1;33m,\u001b[0m\u001b[1;34m'islamabad'\u001b[0m\u001b[1;33m,\u001b[0m\u001b[1;34m'peshawar'\u001b[0m\u001b[1;33m}\u001b[0m\u001b[1;33m\u001b[0m\u001b[1;33m\u001b[0m\u001b[0m\n\u001b[0;32m      2\u001b[0m \u001b[0mprint\u001b[0m\u001b[1;33m(\u001b[0m\u001b[0mtype\u001b[0m\u001b[1;33m(\u001b[0m\u001b[0mcity\u001b[0m\u001b[1;33m)\u001b[0m\u001b[1;33m)\u001b[0m\u001b[1;33m\u001b[0m\u001b[1;33m\u001b[0m\u001b[0m\n\u001b[1;32m----> 3\u001b[1;33m \u001b[0mprint\u001b[0m\u001b[1;33m(\u001b[0m\u001b[0mcity\u001b[0m\u001b[1;33m[\u001b[0m\u001b[1;36m1\u001b[0m\u001b[1;33m]\u001b[0m\u001b[1;33m)\u001b[0m\u001b[1;33m\u001b[0m\u001b[1;33m\u001b[0m\u001b[0m\n\u001b[0m",
      "\u001b[1;31mTypeError\u001b[0m: 'set' object is not subscriptable"
     ]
    }
   ],
   "source": [
    "city={'karachi','lahore','islamabad','peshawar'}\n",
    "print(type(city))\n",
    "print(city[1])"
   ]
  },
  {
   "cell_type": "code",
   "execution_count": 28,
   "metadata": {},
   "outputs": [
    {
     "name": "stdout",
     "output_type": "stream",
     "text": [
      "<class 'list'>\n",
      "islamabad\n",
      "['karachi', 'lahore', 'islamabad', 'peshawar']\n",
      "('karachi', 'lahore', 'islamabad', 'peshawar')\n",
      "<class 'tuple'>\n"
     ]
    }
   ],
   "source": [
    "city1=list(city)\n",
    "city2=tuple(city)\n",
    "print(type(city1))\n",
    "print(city1[2])\n",
    "print(city1)\n",
    "print(city2)\n",
    "print(type(city2))"
   ]
  },
  {
   "cell_type": "code",
   "execution_count": 29,
   "metadata": {},
   "outputs": [
    {
     "name": "stdout",
     "output_type": "stream",
     "text": [
      "<class 'dict'>\n",
      "M Arshad\n"
     ]
    }
   ],
   "source": [
    "bio={'name':'sohail',\n",
    "    'fname':'M Arshad',\n",
    "    'city':'Islamabad'}\n",
    "print(type(bio))\n",
    "print(bio['fname'])"
   ]
  },
  {
   "cell_type": "code",
   "execution_count": 32,
   "metadata": {},
   "outputs": [
    {
     "name": "stdout",
     "output_type": "stream",
     "text": [
      "Sohail arshad\n",
      "Sohail Arshad\n",
      "SOHAIL ARSHAD\n"
     ]
    }
   ],
   "source": [
    "name=\"Sohail Arshad\"\n",
    "print(name.capitalize())\n",
    "print(name.title())\n",
    "print(name.upper())"
   ]
  },
  {
   "cell_type": "code",
   "execution_count": 37,
   "metadata": {},
   "outputs": [
    {
     "name": "stdout",
     "output_type": "stream",
     "text": [
      "Muhammad Arshad\n",
      "        Muhammad Arshad      \n",
      "29\n",
      "Muhammad Arshad      \n",
      "        Muhammad Arshad\n"
     ]
    }
   ],
   "source": [
    "name=\"        Muhammad Arshad      \"\n",
    "print(name.strip())\n",
    "print(name)\n",
    "print(len(name))\n",
    "print(name.lstrip())\n",
    "print(name.rstrip())\n"
   ]
  },
  {
   "cell_type": "code",
   "execution_count": 39,
   "metadata": {},
   "outputs": [
    {
     "name": "stdout",
     "output_type": "stream",
     "text": [
      "['sohail', 'arshad', 'warraich']\n"
     ]
    }
   ],
   "source": [
    "name=\"sohail:arshad:warraich\"\n",
    "print(name.split(':'))"
   ]
  },
  {
   "cell_type": "code",
   "execution_count": 41,
   "metadata": {},
   "outputs": [
    {
     "name": "stdout",
     "output_type": "stream",
     "text": [
      "40\n",
      "['We', 'are', 'pakistani', 'and', 'we', 'love', 'our', 'country']\n",
      "yrtnuoc ruo evol ew dna inatsikap era eW\n"
     ]
    }
   ],
   "source": [
    "a=\"We are pakistani and we love our country\"\n",
    "print(len(a))\n",
    "print(a.split())\n",
    "print(a[::-1])"
   ]
  },
  {
   "cell_type": "code",
   "execution_count": 42,
   "metadata": {},
   "outputs": [
    {
     "data": {
      "text/plain": [
       "'3903090'"
      ]
     },
     "execution_count": 42,
     "metadata": {},
     "output_type": "execute_result"
    }
   ],
   "source": [
    "\n",
    "a = \"390ulksadlj309u0jll\"\n",
    "\"\".join([i for i in a if str.isnumeric(i)])\n",
    "# I can't get this whats going on "
   ]
  },
  {
   "cell_type": "code",
   "execution_count": 46,
   "metadata": {},
   "outputs": [
    {
     "name": "stdout",
     "output_type": "stream",
     "text": [
      "Enter your name: Sohail Arshad\n",
      "Enter your Father name: Muhammad Arshad\n",
      "Enter your city: Islamabad\n",
      "Enter your Batch: 03\n",
      "\n",
      "Name : sohail arshad\n",
      "father name: M Arshad\n",
      "city : islamabad\n",
      "Batch NO. : 03\n",
      "\n",
      "\n"
     ]
    }
   ],
   "source": [
    "card=f'''\n",
    "Name : {name}\n",
    "father name: {fname}\n",
    "city : {city}\n",
    "Batch NO. : {bno}\n",
    "\n",
    "'''\n",
    "name=input(\"Enter your name: \")\n",
    "fname=input(\"Enter your Father name: \")\n",
    "city=input(\"Enter your city: \")\n",
    "bno=input(\"Enter your Batch: \")\n",
    "print(card)\n"
   ]
  },
  {
   "cell_type": "code",
   "execution_count": 48,
   "metadata": {},
   "outputs": [
    {
     "name": "stdout",
     "output_type": "stream",
     "text": [
      "Enter your name: Sohail Arshad\n",
      "Enter your Father name: Muhammad Arshad\n",
      "Enter your city: Islamabad\n",
      "Enter your Batch: 03\n",
      "\n",
      "Name : Sohail Arshad\n",
      "father name: Muhammad Arshad\n",
      "city : Islamabad\n",
      "Batch NO. : 03\n",
      "\n",
      "\n"
     ]
    }
   ],
   "source": [
    "card='''\n",
    "Name : {}\n",
    "father name: {}\n",
    "city : {}\n",
    "Batch NO. : {}\n",
    "\n",
    "'''\n",
    "name=input(\"Enter your name: \")\n",
    "fname=input(\"Enter your Father name: \")\n",
    "city=input(\"Enter your city: \")\n",
    "bno=input(\"Enter your Batch: \")\n",
    "print(card.format(name,fname,city,bno))"
   ]
  },
  {
   "cell_type": "code",
   "execution_count": 49,
   "metadata": {},
   "outputs": [
    {
     "name": "stdout",
     "output_type": "stream",
     "text": [
      "Enter your name: Sohail Arshad\n",
      "Enter your Father name: Muhammad Arshad\n",
      "Enter your city: Islamabad\n",
      "Enter your Batch: 03\n",
      "\n",
      "Name : Muhammad Arshad\n",
      "father name: Sohail Arshad\n",
      "city : 03\n",
      "Batch NO. : Islamabad\n",
      "\n",
      "\n"
     ]
    }
   ],
   "source": [
    "card='''\n",
    "Name : {b}\n",
    "father name: {a}\n",
    "city : {d}\n",
    "Batch NO. : {c}\n",
    "\n",
    "'''\n",
    "name=input(\"Enter your name: \")\n",
    "fname=input(\"Enter your Father name: \")\n",
    "city=input(\"Enter your city: \")\n",
    "bno=input(\"Enter your Batch: \")\n",
    "print(card.format(a=name,b=fname,c=city,d=bno))"
   ]
  },
  {
   "cell_type": "code",
   "execution_count": null,
   "metadata": {},
   "outputs": [],
   "source": []
  }
 ],
 "metadata": {
  "kernelspec": {
   "display_name": "Python 3",
   "language": "python",
   "name": "python3"
  },
  "language_info": {
   "codemirror_mode": {
    "name": "ipython",
    "version": 3
   },
   "file_extension": ".py",
   "mimetype": "text/x-python",
   "name": "python",
   "nbconvert_exporter": "python",
   "pygments_lexer": "ipython3",
   "version": "3.7.4"
  }
 },
 "nbformat": 4,
 "nbformat_minor": 2
}
