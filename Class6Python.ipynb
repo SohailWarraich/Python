{
 "cells": [
  {
   "cell_type": "markdown",
   "metadata": {},
   "source": [
    "# Practice Class"
   ]
  },
  {
   "cell_type": "code",
   "execution_count": 1,
   "metadata": {},
   "outputs": [
    {
     "name": "stdout",
     "output_type": "stream",
     "text": [
      "Enter your marks 65\n",
      "your grade is D\n"
     ]
    }
   ],
   "source": [
    "marks=int(input(\"Enter your marks \"))\n",
    "if marks >= 90:\n",
    "    print(\"your grade is A\")\n",
    "elif marks >= 80:\n",
    "    print(\"your grade is B\")\n",
    "elif marks >= 70:\n",
    "    print(\"your grade is C\")\n",
    "elif marks >= 60:\n",
    "    print(\"your grade is D\")\n",
    "else:\n",
    "    print(\"your grade is E\")\n"
   ]
  },
  {
   "cell_type": "code",
   "execution_count": 5,
   "metadata": {},
   "outputs": [
    {
     "ename": "SyntaxError",
     "evalue": "invalid syntax (<ipython-input-5-77913fadb1c4>, line 14)",
     "output_type": "error",
     "traceback": [
      "\u001b[1;36m  File \u001b[1;32m\"<ipython-input-5-77913fadb1c4>\"\u001b[1;36m, line \u001b[1;32m14\u001b[0m\n\u001b[1;33m    sratch=input(\"DVD got sratch, yes|no :\")\u001b[0m\n\u001b[1;37m         ^\u001b[0m\n\u001b[1;31mSyntaxError\u001b[0m\u001b[1;31m:\u001b[0m invalid syntax\n"
     ]
    }
   ],
   "source": [
    "sratch=''\n",
    "if rent_day=='sunday':\n",
    "    cost=1.59/0.03\n",
    "    if return_time < 8:\n",
    "        cost+=cost\n",
    "        print(cost)\n",
    "        if sratch =='yes':\n",
    "            cost=cost+2\n",
    "            print(cost)\n",
    "elif rent_day == 'thursday':\n",
    "    cost=1.59/0.50\n",
    "rent_day=input(\"On what day DVD is rented (week days): \")\n",
    "return_time=int(input(\"Enter DVD return time : \")  \n",
    "sratch=input(\"DVD got sratch, yes|no :\")\n"
   ]
  },
  {
   "cell_type": "code",
   "execution_count": null,
   "metadata": {},
   "outputs": [],
   "source": []
  }
 ],
 "metadata": {
  "kernelspec": {
   "display_name": "Python 3",
   "language": "python",
   "name": "python3"
  },
  "language_info": {
   "codemirror_mode": {
    "name": "ipython",
    "version": 3
   },
   "file_extension": ".py",
   "mimetype": "text/x-python",
   "name": "python",
   "nbconvert_exporter": "python",
   "pygments_lexer": "ipython3",
   "version": "3.7.4"
  }
 },
 "nbformat": 4,
 "nbformat_minor": 2
}
