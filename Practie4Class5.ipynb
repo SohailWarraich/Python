{
 "cells": [
  {
   "cell_type": "markdown",
   "metadata": {},
   "source": [
    "# Dictionary"
   ]
  },
  {
   "cell_type": "code",
   "execution_count": 1,
   "metadata": {},
   "outputs": [
    {
     "name": "stdout",
     "output_type": "stream",
     "text": [
      "{'id': 2, 'name': 'Sohail', 'course': 'AI'}\n",
      "<class 'dict'>\n"
     ]
    }
   ],
   "source": [
    "d1={\n",
    "    'id':2,\n",
    "    'name':'Sohail',\n",
    "    'course':'AI'\n",
    "    \n",
    "}\n",
    "print(d1)\n",
    "print(type(d1))"
   ]
  },
  {
   "cell_type": "code",
   "execution_count": 2,
   "metadata": {},
   "outputs": [
    {
     "name": "stdout",
     "output_type": "stream",
     "text": [
      "{'id': 200, 'name': 'Sohail', 'course': 'AI'}\n"
     ]
    }
   ],
   "source": [
    "d1={\n",
    "    'id':20,\n",
    "'name':'Sohail',\n",
    "    'course':'AI',\n",
    "    'id':200\n",
    "    \n",
    "}\n",
    "print(d1)"
   ]
  },
  {
   "cell_type": "code",
   "execution_count": 3,
   "metadata": {},
   "outputs": [
    {
     "data": {
      "text/plain": [
       "{'id': 1, 'name': 'waraich', 'course': 'PIAIC'}"
      ]
     },
     "execution_count": 3,
     "metadata": {},
     "output_type": "execute_result"
    }
   ],
   "source": [
    "d1={}\n",
    "d1['id']=1\n",
    "d1['name']='waraich'\n",
    "d1['course']='PIAIC'\n",
    "d1"
   ]
  },
  {
   "cell_type": "code",
   "execution_count": 4,
   "metadata": {},
   "outputs": [
    {
     "name": "stdout",
     "output_type": "stream",
     "text": [
      "{'id': 200, 'name': 'Sohail', 'course': 'AI'}\n",
      "{}\n"
     ]
    }
   ],
   "source": [
    "d1={\n",
    "    'id':20,\n",
    "'name':'Sohail',\n",
    "    'course':'AI',\n",
    "    'id':200\n",
    "    \n",
    "}\n",
    "print(d1)\n",
    "d1.clear()\n",
    "print(d1)"
   ]
  },
  {
   "cell_type": "code",
   "execution_count": 5,
   "metadata": {},
   "outputs": [
    {
     "name": "stdout",
     "output_type": "stream",
     "text": [
      "{'id': 200, 'name': 'Sohail', 'course': 'AI'}\n"
     ]
    },
    {
     "ename": "NameError",
     "evalue": "name 'd1' is not defined",
     "output_type": "error",
     "traceback": [
      "\u001b[1;31m---------------------------------------------------------------------------\u001b[0m",
      "\u001b[1;31mNameError\u001b[0m                                 Traceback (most recent call last)",
      "\u001b[1;32m<ipython-input-5-6aea4f75891b>\u001b[0m in \u001b[0;36m<module>\u001b[1;34m\u001b[0m\n\u001b[0;32m      8\u001b[0m \u001b[0mprint\u001b[0m\u001b[1;33m(\u001b[0m\u001b[0md1\u001b[0m\u001b[1;33m)\u001b[0m\u001b[1;33m\u001b[0m\u001b[1;33m\u001b[0m\u001b[0m\n\u001b[0;32m      9\u001b[0m \u001b[1;32mdel\u001b[0m \u001b[0md1\u001b[0m\u001b[1;33m\u001b[0m\u001b[1;33m\u001b[0m\u001b[0m\n\u001b[1;32m---> 10\u001b[1;33m \u001b[0mprint\u001b[0m\u001b[1;33m(\u001b[0m\u001b[0md1\u001b[0m\u001b[1;33m)\u001b[0m\u001b[1;33m\u001b[0m\u001b[1;33m\u001b[0m\u001b[0m\n\u001b[0m",
      "\u001b[1;31mNameError\u001b[0m: name 'd1' is not defined"
     ]
    }
   ],
   "source": [
    "d1={\n",
    "    'id':20,\n",
    "'name':'Sohail',\n",
    "    'course':'AI',\n",
    "    'id':200\n",
    "    \n",
    "}\n",
    "print(d1)\n",
    "del d1\n",
    "print(d1)"
   ]
  },
  {
   "cell_type": "code",
   "execution_count": 6,
   "metadata": {},
   "outputs": [
    {
     "name": "stdout",
     "output_type": "stream",
     "text": [
      "{'id': 200, 'name': 'Sohail', 'course': 'AI'}\n",
      "{'id': 200, 'name': 'waraich', 'course': 'AI'}\n",
      "{'id': 200, 'name': 'Sohail', 'course': 'AI'}\n"
     ]
    }
   ],
   "source": [
    "d1={\n",
    "    'id':20,\n",
    "'name':'Sohail',\n",
    "    'course':'AI',\n",
    "    'id':200\n",
    "    \n",
    "}\n",
    "d2=d1.copy()\n",
    "print(d1)\n",
    "d1['name']='waraich'\n",
    "print(d1)\n",
    "print(d2)"
   ]
  },
  {
   "cell_type": "code",
   "execution_count": 7,
   "metadata": {},
   "outputs": [
    {
     "data": {
      "text/plain": [
       "{'name': None, 'contact': None, 'id': None, 'DOB': None, 'CNIC': None}"
      ]
     },
     "execution_count": 7,
     "metadata": {},
     "output_type": "execute_result"
    }
   ],
   "source": [
    "l1=['name','contact','id','DOB','CNIC']\n",
    "dict.fromkeys(l1)\n",
    "# print(l1)"
   ]
  },
  {
   "cell_type": "code",
   "execution_count": 8,
   "metadata": {},
   "outputs": [
    {
     "data": {
      "text/plain": [
       "{'name': None, 'id': None, 'contact': None, 'DOB': None, 'CNIC': None}"
      ]
     },
     "execution_count": 8,
     "metadata": {},
     "output_type": "execute_result"
    }
   ],
   "source": [
    "l1 = ['name','id','contact','DOB','CNIC']\n",
    "\n",
    "dict.fromkeys(l1)"
   ]
  },
  {
   "cell_type": "code",
   "execution_count": null,
   "metadata": {},
   "outputs": [],
   "source": [
    "l1=input('Enter keys')\n",
    "l1=l1.split( )\n",
    "d1={}\n",
    "for i in l1:\n",
    "    d1[i]=None\n",
    "d1\n",
    "    "
   ]
  },
  {
   "cell_type": "code",
   "execution_count": 9,
   "metadata": {},
   "outputs": [
    {
     "name": "stdout",
     "output_type": "stream",
     "text": [
      "enter keysa b c d e\n"
     ]
    },
    {
     "data": {
      "text/plain": [
       "{'a': None, 'b': None, 'c': None, 'd': None, 'e': None}"
      ]
     },
     "execution_count": 9,
     "metadata": {},
     "output_type": "execute_result"
    }
   ],
   "source": [
    "l1=input('enter keys').split( )\n",
    "d1=dict.fromkeys(l1)\n",
    "d1"
   ]
  },
  {
   "cell_type": "code",
   "execution_count": 11,
   "metadata": {},
   "outputs": [
    {
     "name": "stdout",
     "output_type": "stream",
     "text": [
      "Enter Keys name id address\n",
      "Enter values sohail 78 wah\n"
     ]
    },
    {
     "data": {
      "text/plain": [
       "{'name': 'sohail', 'id': '78', 'address': 'wah'}"
      ]
     },
     "execution_count": 11,
     "metadata": {},
     "output_type": "execute_result"
    }
   ],
   "source": [
    "l1=input('Enter Keys ').split( )\n",
    "l2=input('Enter values ').split( )\n",
    "d1={}\n",
    "for i in range(len(l1)):\n",
    "    d1[l1[i]]=l2[i]\n",
    "d1"
   ]
  },
  {
   "cell_type": "code",
   "execution_count": 12,
   "metadata": {},
   "outputs": [
    {
     "name": "stdout",
     "output_type": "stream",
     "text": [
      "enter keysname id contact\n",
      "Enter valuessohail 78 78e79r7\n"
     ]
    },
    {
     "data": {
      "text/plain": [
       "{'name': 'sohail', 'id': '78', 'contact': '78e79r7'}"
      ]
     },
     "execution_count": 12,
     "metadata": {},
     "output_type": "execute_result"
    }
   ],
   "source": [
    "l1=input(\"enter keys\").split( )\n",
    "l2=input(\"Enter values\").split( )\n",
    "d1={}\n",
    "for i,j in zip(l1,l2):\n",
    "#     d1[l1[i]]=l2[j]\n",
    "    d1[i]=j\n",
    "    \n",
    "d1\n",
    "    "
   ]
  },
  {
   "cell_type": "code",
   "execution_count": 13,
   "metadata": {},
   "outputs": [
    {
     "name": "stdout",
     "output_type": "stream",
     "text": [
      "enter keysid name \n",
      "enter values67 waraich\n"
     ]
    },
    {
     "data": {
      "text/plain": [
       "{'id': '67', 'name': 'waraich'}"
      ]
     },
     "execution_count": 13,
     "metadata": {},
     "output_type": "execute_result"
    }
   ],
   "source": [
    "l1=input(\"enter keys\").split( )\n",
    "l2=input(\"enter values\").split( )\n",
    "d1={}\n",
    "i=0\n",
    "while i <(len(l1)):               # why this code is not running when i use <= sign while with only < this code works well\n",
    "    d1[l1[i]] = l2[i]\n",
    "    i+=1\n",
    "d1\n",
    "    "
   ]
  },
  {
   "cell_type": "code",
   "execution_count": 20,
   "metadata": {},
   "outputs": [
    {
     "name": "stdout",
     "output_type": "stream",
     "text": [
      "Enter Keys a b c d e f\n",
      "Enter values g h i j k l\n"
     ]
    },
    {
     "data": {
      "text/plain": [
       "{'a': 'g', 'b': 'h', 'c': 'i', 'd': 'j', 'e': 'k', 'f': 'l'}"
      ]
     },
     "execution_count": 20,
     "metadata": {},
     "output_type": "execute_result"
    }
   ],
   "source": [
    "l1=input('Enter Keys ').split( )\n",
    "l2=input('Enter values ').split( )\n",
    "d1={}\n",
    "{l1[i]:l2[i] for i in range(len(l1))}\n",
    "# [l1[i]:l2[i] for i in range(len(l1))] \n"
   ]
  },
  {
   "cell_type": "code",
   "execution_count": 21,
   "metadata": {},
   "outputs": [
    {
     "name": "stdout",
     "output_type": "stream",
     "text": [
      "enter keysa b c\n",
      "enter valuesd e f\n"
     ]
    },
    {
     "data": {
      "text/plain": [
       "[('a', 'd'), ('b', 'e'), ('c', 'f')]"
      ]
     },
     "execution_count": 21,
     "metadata": {},
     "output_type": "execute_result"
    }
   ],
   "source": [
    "l1=input(\"enter keys\").split( )\n",
    "l2=input(\"enter values\").split( )\n",
    "list(zip(l1,l2))"
   ]
  },
  {
   "cell_type": "code",
   "execution_count": 22,
   "metadata": {},
   "outputs": [
    {
     "name": "stdout",
     "output_type": "stream",
     "text": [
      "enter values a b c\n",
      "enter keys d e f\n"
     ]
    },
    {
     "data": {
      "text/plain": [
       "{'a': 'd', 'b': 'e', 'c': 'f'}"
      ]
     },
     "execution_count": 22,
     "metadata": {},
     "output_type": "execute_result"
    }
   ],
   "source": [
    "l1=input(\"enter values \").split( )\n",
    "l2=input(\"enter keys \").split( )\n",
    "dict(zip(l1,l2))"
   ]
  },
  {
   "cell_type": "code",
   "execution_count": 3,
   "metadata": {},
   "outputs": [
    {
     "name": "stdout",
     "output_type": "stream",
     "text": [
      "enter name sohail\n",
      "enter id 1\n",
      "enter address wah\n",
      "enter skills c++ java python\n"
     ]
    },
    {
     "data": {
      "text/plain": [
       "{'name': 'sohail',\n",
       " 'id': '1',\n",
       " 'address': 'wah',\n",
       " 'skills': ['c++', 'java', 'python']}"
      ]
     },
     "execution_count": 3,
     "metadata": {},
     "output_type": "execute_result"
    }
   ],
   "source": [
    "d1={}\n",
    "name=input(\"enter name \")\n",
    "iid=input(\"enter id \")\n",
    "address=input(\"enter address \")\n",
    "skill=list(input(\"enter skills \").split( ))\n",
    "d1['name']=name\n",
    "d1['id']=iid\n",
    "d1['address']=address\n",
    "d1['skills']=skill\n",
    "d1"
   ]
  },
  {
   "cell_type": "code",
   "execution_count": 26,
   "metadata": {},
   "outputs": [
    {
     "name": "stdout",
     "output_type": "stream",
     "text": [
      "enter name w d c\n"
     ]
    },
    {
     "data": {
      "text/plain": [
       "['w', 'd', 'c']"
      ]
     },
     "execution_count": 26,
     "metadata": {},
     "output_type": "execute_result"
    }
   ],
   "source": [
    "name=list(input(\"enter name \").split( ))\n",
    "name"
   ]
  },
  {
   "cell_type": "code",
   "execution_count": 5,
   "metadata": {},
   "outputs": [
    {
     "data": {
      "text/plain": [
       "[(65, 97, 48),\n",
       " (66, 98, 49),\n",
       " (67, 99, 50),\n",
       " (68, 100, 51),\n",
       " (69, 101, 52),\n",
       " (70, 102, 53),\n",
       " (71, 103, 54),\n",
       " (72, 104, 55),\n",
       " (73, 105, 56),\n",
       " (74, 106, 57)]"
      ]
     },
     "execution_count": 5,
     "metadata": {},
     "output_type": "execute_result"
    }
   ],
   "source": [
    "a=[i for i in range(65,91)]\n",
    "b=[i for i in range(97,123)]\n",
    "c=[i for i in range(48,58)]\n",
    "d=zip(a,b,c)\n",
    "list(d)"
   ]
  },
  {
   "cell_type": "code",
   "execution_count": 11,
   "metadata": {},
   "outputs": [
    {
     "data": {
      "text/plain": [
       "['A',\n",
       " 'B',\n",
       " 'C',\n",
       " 'D',\n",
       " 'E',\n",
       " 'F',\n",
       " 'G',\n",
       " 'H',\n",
       " 'I',\n",
       " 'J',\n",
       " 'K',\n",
       " 'L',\n",
       " 'M',\n",
       " 'N',\n",
       " 'O',\n",
       " 'P',\n",
       " 'Q',\n",
       " 'R',\n",
       " 'S',\n",
       " 'T',\n",
       " 'U',\n",
       " 'V',\n",
       " 'W',\n",
       " 'X',\n",
       " 'Y',\n",
       " 'Z',\n",
       " 'a',\n",
       " 'b',\n",
       " 'c',\n",
       " 'd',\n",
       " 'e',\n",
       " 'f',\n",
       " 'g',\n",
       " 'h',\n",
       " 'i',\n",
       " 'j',\n",
       " 'k',\n",
       " 'l',\n",
       " 'm',\n",
       " 'n',\n",
       " 'o',\n",
       " 'p',\n",
       " 'q',\n",
       " 'r',\n",
       " 's',\n",
       " 't',\n",
       " 'u',\n",
       " 'v',\n",
       " 'w',\n",
       " 'x',\n",
       " 'y',\n",
       " 'z']"
      ]
     },
     "execution_count": 11,
     "metadata": {},
     "output_type": "execute_result"
    }
   ],
   "source": [
    "a=[chr(i) for i in range(65,91)]\n",
    "b=[chr(i) for i in range(97,123)]\n",
    "list(a+b)"
   ]
  },
  {
   "cell_type": "code",
   "execution_count": 12,
   "metadata": {},
   "outputs": [
    {
     "data": {
      "text/plain": [
       "[('A', 'z', '0'),\n",
       " ('B', 'y', '1'),\n",
       " ('C', 'x', '2'),\n",
       " ('D', 'w', '3'),\n",
       " ('E', 'v', '4'),\n",
       " ('F', 'u', '5'),\n",
       " ('G', 't', '6'),\n",
       " ('H', 's', '7'),\n",
       " ('I', 'r', '8'),\n",
       " ('J', 'q', '9')]"
      ]
     },
     "execution_count": 12,
     "metadata": {},
     "output_type": "execute_result"
    }
   ],
   "source": [
    "a = [chr(i) for i in range(65,91)]\n",
    "b = [chr(i) for i in range(97,123)]\n",
    "c = [chr(i) for i in range(48,58)]\n",
    "\n",
    "d = zip(a,sorted(b, reverse=True),c)\n",
    "\n",
    "\n",
    "list(d)"
   ]
  },
  {
   "cell_type": "code",
   "execution_count": 1,
   "metadata": {},
   "outputs": [
    {
     "data": {
      "text/plain": [
       "[1, 3, 5, 7, 9, 11, 13, 15, 17, 19]"
      ]
     },
     "execution_count": 1,
     "metadata": {},
     "output_type": "execute_result"
    }
   ],
   "source": [
    "li=[1,2,3,4,5,6,7,8,9,10,11,12,13,14,15,16,17,18,19,20]\n",
    "x=list(filter(lambda i:(i%2 !=0),li))\n",
    "x"
   ]
  },
  {
   "cell_type": "code",
   "execution_count": 8,
   "metadata": {},
   "outputs": [
    {
     "name": "stdout",
     "output_type": "stream",
     "text": [
      "enter student id 1\n",
      "enter student namesohail\n",
      "Enter student skillsc java\n",
      "Enter more record yes|no : yes\n",
      "enter student id 2\n",
      "enter student nameaslam \n",
      "Enter student skillsr c \n",
      "Enter more record yes|no : no\n",
      "[{'id': '2', 'name': 'aslam ', 'skills': ['r', 'c']}, {'id': '2', 'name': 'aslam ', 'skills': ['r', 'c']}]\n"
     ]
    }
   ],
   "source": [
    "students=[]\n",
    "\n",
    "d1={}\n",
    "rec=''\n",
    "while rec !='no':\n",
    "    d1['id']=input('enter student id ')\n",
    "    d1['name']=input('enter student name')\n",
    "    d1['skills']=list(input(\"Enter student skills\").split( ))\n",
    "    students.append(d1)\n",
    "#     d1.append()\n",
    "\n",
    "    rec=input(\"Enter more record yes|no : \")\n",
    "print(students)\n",
    "# print(d1)\n"
   ]
  },
  {
   "cell_type": "code",
   "execution_count": null,
   "metadata": {},
   "outputs": [],
   "source": [
    "li=[5,7,5,4,3,2,3,78,99,76,54,34,23,22,54,65,76,12,23,34,45,56,67,78,31,32,43,54,64,73]\n",
    "y=list(filter(lambda y:(y%2=0),li))\n",
    "y"
   ]
  },
  {
   "cell_type": "code",
   "execution_count": 11,
   "metadata": {},
   "outputs": [
    {
     "data": {
      "text/plain": [
       "['__class__',\n",
       " '__contains__',\n",
       " '__delattr__',\n",
       " '__delitem__',\n",
       " '__dir__',\n",
       " '__doc__',\n",
       " '__eq__',\n",
       " '__format__',\n",
       " '__ge__',\n",
       " '__getattribute__',\n",
       " '__getitem__',\n",
       " '__gt__',\n",
       " '__hash__',\n",
       " '__init__',\n",
       " '__init_subclass__',\n",
       " '__iter__',\n",
       " '__le__',\n",
       " '__len__',\n",
       " '__lt__',\n",
       " '__ne__',\n",
       " '__new__',\n",
       " '__reduce__',\n",
       " '__reduce_ex__',\n",
       " '__repr__',\n",
       " '__setattr__',\n",
       " '__setitem__',\n",
       " '__sizeof__',\n",
       " '__str__',\n",
       " '__subclasshook__',\n",
       " 'clear',\n",
       " 'copy',\n",
       " 'fromkeys',\n",
       " 'get',\n",
       " 'items',\n",
       " 'keys',\n",
       " 'pop',\n",
       " 'popitem',\n",
       " 'setdefault',\n",
       " 'update',\n",
       " 'values']"
      ]
     },
     "execution_count": 11,
     "metadata": {},
     "output_type": "execute_result"
    }
   ],
   "source": [
    "dir(dict)\n"
   ]
  },
  {
   "cell_type": "code",
   "execution_count": 15,
   "metadata": {},
   "outputs": [
    {
     "name": "stdout",
     "output_type": "stream",
     "text": [
      "{'a': 6, 'f': 9, 'c': 8, 'b': 3, 'e': 7, 'h': 4}\n",
      "{'a': 6, 'b': 3, 'c': 8, 'e': 7, 'f': 9, 'h': 4}\n"
     ]
    }
   ],
   "source": [
    "d={\n",
    "    'a':6,\n",
    "    'f':9,\n",
    "    'c':8,\n",
    "    'b':3,\n",
    "    'e':7,\n",
    "    'h':4\n",
    "    \n",
    "}\n",
    "d1={}\n",
    "for i in sorted(d.keys()):\n",
    "    d1[i]=d[i]\n",
    "print(d)\n",
    "print(d1)\n",
    "    "
   ]
  },
  {
   "cell_type": "code",
   "execution_count": 2,
   "metadata": {},
   "outputs": [
    {
     "name": "stdout",
     "output_type": "stream",
     "text": [
      "{'a': 6, 'f': 9, 'c': 8, 'b': 3, 'e': 7, 'h': 4}\n",
      "{'a': 6, 'f': 9, 'c': 8, 'b': 3, 'e': 7, 'h': 4}\n",
      "{'a': 6, 'f': 9, 'c': 8, 'b': 3, 'e': 7, 'h': 4}\n"
     ]
    }
   ],
   "source": [
    "d={\n",
    "    'a':6,\n",
    "    'f':9,\n",
    "    'c':8,\n",
    "    'b':3,\n",
    "    'e':7,\n",
    "    'h':4\n",
    "    \n",
    "}\n",
    "d1={}\n",
    "for i in d:\n",
    "    d1[i]=d[i]\n",
    "d2=d1.copy()\n",
    "print(d)\n",
    "print(d1)\n",
    "print(d2)"
   ]
  },
  {
   "cell_type": "code",
   "execution_count": 8,
   "metadata": {},
   "outputs": [
    {
     "name": "stdout",
     "output_type": "stream",
     "text": [
      "[65, 66, 67, 68, 69, 70, 71, 72, 73, 74, 75, 76, 77, 78, 79, 80, 81, 82, 83, 84, 85, 86, 87, 88, 89, 90]\n"
     ]
    }
   ],
   "source": [
    "a=[i for i in range(65,91)]\n",
    "b=(i for i in range(97,123))   #what is the differene b/w a b and c dry run output differ\n",
    "c=[(i for i in range(48,58))]\n",
    "print(a)"
   ]
  },
  {
   "cell_type": "code",
   "execution_count": 9,
   "metadata": {},
   "outputs": [
    {
     "data": {
      "text/plain": [
       "[('A', 'z', '0'),\n",
       " ('B', 'y', '1'),\n",
       " ('C', 'x', '2'),\n",
       " ('D', 'w', '3'),\n",
       " ('E', 'v', '4'),\n",
       " ('F', 'u', '5'),\n",
       " ('G', 't', '6'),\n",
       " ('H', 's', '7'),\n",
       " ('I', 'r', '8'),\n",
       " ('J', 'q', '9')]"
      ]
     },
     "execution_count": 9,
     "metadata": {},
     "output_type": "execute_result"
    }
   ],
   "source": [
    "a = [chr(i) for i in range(65,91)]\n",
    "b = [chr(i) for i in range(97,123)]\n",
    "c = [chr(i) for i in range(48,58)]\n",
    "\n",
    "d = zip(a,sorted(b, reverse=True),c)\n",
    "\n",
    "\n",
    "list(d)"
   ]
  },
  {
   "cell_type": "code",
   "execution_count": 1,
   "metadata": {},
   "outputs": [
    {
     "data": {
      "text/plain": [
       "[('A', 'z', '0'),\n",
       " ('B', 'y', '1'),\n",
       " ('C', 'x', '2'),\n",
       " ('D', 'w', '3'),\n",
       " ('E', 'v', '4'),\n",
       " ('F', 'u', '5'),\n",
       " ('G', 't', '6'),\n",
       " ('H', 's', '7'),\n",
       " ('I', 'r', '8'),\n",
       " ('J', 'q', '9')]"
      ]
     },
     "execution_count": 1,
     "metadata": {},
     "output_type": "execute_result"
    }
   ],
   "source": [
    "\n",
    "a = [chr(i) for i in range(65,91)]\n",
    "b = [chr(i) for i in range(97,123)]\n",
    "c = [chr(i) for i in range(48,58)]\n",
    "\n",
    "d = zip(a,sorted(b, reverse=True),c)\n",
    "\n",
    "\n",
    "list(d)"
   ]
  },
  {
   "cell_type": "code",
   "execution_count": 3,
   "metadata": {},
   "outputs": [
    {
     "data": {
      "text/plain": [
       "[('J', 'q', '9'),\n",
       " ('I', 'r', '8'),\n",
       " ('H', 's', '7'),\n",
       " ('G', 't', '6'),\n",
       " ('F', 'u', '5'),\n",
       " ('E', 'v', '4'),\n",
       " ('D', 'w', '3'),\n",
       " ('C', 'x', '2'),\n",
       " ('B', 'y', '1'),\n",
       " ('A', 'z', '0')]"
      ]
     },
     "execution_count": 3,
     "metadata": {},
     "output_type": "execute_result"
    }
   ],
   "source": [
    "d=[('A', 'z', '0'),\n",
    " ('B', 'y', '1'),\n",
    " ('C', 'x', '2'),\n",
    " ('D', 'w', '3'),\n",
    " ('E', 'v', '4'),\n",
    " ('F', 'u', '5'),\n",
    " ('G', 't', '6'),\n",
    " ('H', 's', '7'),\n",
    " ('I', 'r', '8'),\n",
    " ('J', 'q', '9')]\n",
    "sorted(d,reverse=True)"
   ]
  },
  {
   "cell_type": "code",
   "execution_count": 5,
   "metadata": {},
   "outputs": [
    {
     "data": {
      "text/plain": [
       "[('J', 'q', '9'),\n",
       " ('I', 'r', '8'),\n",
       " ('H', 's', '7'),\n",
       " ('G', 't', '6'),\n",
       " ('F', 'u', '5'),\n",
       " ('E', 'v', '4'),\n",
       " ('D', 'w', '3'),\n",
       " ('C', 'x', '2'),\n",
       " ('B', 'y', '1'),\n",
       " ('A', 'z', '0')]"
      ]
     },
     "execution_count": 5,
     "metadata": {},
     "output_type": "execute_result"
    }
   ],
   "source": [
    "d=[('A', 'z', '0'),\n",
    " ('B', 'y', '1'),\n",
    " ('C', 'x', '2'),\n",
    " ('D', 'w', '3'),\n",
    " ('E', 'v', '4'),\n",
    " ('F', 'u', '5'),\n",
    " ('G', 't', '6'),\n",
    " ('H', 's', '7'),\n",
    " ('I', 'r', '8'),\n",
    " ('J', 'q', '9')]\n",
    "sorted(d,reverse=True,key=lambda x:x[0])    #what is the funtion of key"
   ]
  },
  {
   "cell_type": "code",
   "execution_count": 7,
   "metadata": {},
   "outputs": [
    {
     "data": {
      "text/plain": [
       "[('J', 'q', '9'),\n",
       " ('G', 't', '8'),\n",
       " ('H', 's', '7'),\n",
       " ('I', 'r', '6'),\n",
       " ('F', 'u', '5'),\n",
       " ('D', 'w', '4'),\n",
       " ('E', 'v', '3'),\n",
       " ('C', 'x', '2'),\n",
       " ('B', 'y', '1'),\n",
       " ('A', 'z', '0')]"
      ]
     },
     "execution_count": 7,
     "metadata": {},
     "output_type": "execute_result"
    }
   ],
   "source": [
    "d = [('A', 'z', '0'),\n",
    "     ('B', 'y', '1'),\n",
    "     ('C', 'x', '2'),\n",
    "     ('D', 'w', '4'),\n",
    "     ('E', 'v', '3'),\n",
    "     ('F', 'u', '5'),\n",
    "     ('G', 't', '8'),\n",
    "     ('H', 's', '7'),\n",
    "     ('I', 'r', '6'),\n",
    "     ('J', 'q', '9')]\n",
    "\n",
    "\n",
    "def abc(x):\n",
    "    return x[2]   \n",
    "\n",
    "\n",
    "sorted(d, reverse=True,key=abc)\n",
    "#abc(('A', 'z', '0'))\n",
    "# whats going on in this code? dry run?"
   ]
  },
  {
   "cell_type": "code",
   "execution_count": 8,
   "metadata": {},
   "outputs": [
    {
     "data": {
      "text/plain": [
       "{'c': 5, 'd': 3, 'b': 2, 'a': 1}"
      ]
     },
     "execution_count": 8,
     "metadata": {},
     "output_type": "execute_result"
    }
   ],
   "source": [
    "d1={\n",
    "    'a':1,\n",
    "    'c':5,\n",
    "    'b':2,\n",
    "    'd':3\n",
    "}\n",
    "\n",
    "{k:v for k,v in sorted(d1.items(), key=lambda x:x[1], reverse=True) }"
   ]
  },
  {
   "cell_type": "code",
   "execution_count": 9,
   "metadata": {},
   "outputs": [
    {
     "data": {
      "text/plain": [
       "{'d': 3, 'c': 5, 'b': 2, 'a': 1}"
      ]
     },
     "execution_count": 9,
     "metadata": {},
     "output_type": "execute_result"
    }
   ],
   "source": [
    "d1={\n",
    "    'a':1,\n",
    "    'c':5,\n",
    "    'b':2,\n",
    "    'd':3\n",
    "}\n",
    "\n",
    "{k:v for k,v in sorted(d1.items(), reverse=True) }"
   ]
  },
  {
   "cell_type": "code",
   "execution_count": null,
   "metadata": {},
   "outputs": [],
   "source": []
  }
 ],
 "metadata": {
  "kernelspec": {
   "display_name": "Python 3",
   "language": "python",
   "name": "python3"
  },
  "language_info": {
   "codemirror_mode": {
    "name": "ipython",
    "version": 3
   },
   "file_extension": ".py",
   "mimetype": "text/x-python",
   "name": "python",
   "nbconvert_exporter": "python",
   "pygments_lexer": "ipython3",
   "version": "3.7.4"
  }
 },
 "nbformat": 4,
 "nbformat_minor": 2
}
