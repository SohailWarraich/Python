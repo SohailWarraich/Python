{
 "cells": [
  {
   "cell_type": "code",
   "execution_count": 1,
   "metadata": {},
   "outputs": [
    {
     "data": {
      "text/plain": [
       "['__add__',\n",
       " '__class__',\n",
       " '__contains__',\n",
       " '__delattr__',\n",
       " '__dir__',\n",
       " '__doc__',\n",
       " '__eq__',\n",
       " '__format__',\n",
       " '__ge__',\n",
       " '__getattribute__',\n",
       " '__getitem__',\n",
       " '__getnewargs__',\n",
       " '__gt__',\n",
       " '__hash__',\n",
       " '__init__',\n",
       " '__init_subclass__',\n",
       " '__iter__',\n",
       " '__le__',\n",
       " '__len__',\n",
       " '__lt__',\n",
       " '__mod__',\n",
       " '__mul__',\n",
       " '__ne__',\n",
       " '__new__',\n",
       " '__reduce__',\n",
       " '__reduce_ex__',\n",
       " '__repr__',\n",
       " '__rmod__',\n",
       " '__rmul__',\n",
       " '__setattr__',\n",
       " '__sizeof__',\n",
       " '__str__',\n",
       " '__subclasshook__',\n",
       " 'capitalize',\n",
       " 'casefold',\n",
       " 'center',\n",
       " 'count',\n",
       " 'encode',\n",
       " 'endswith',\n",
       " 'expandtabs',\n",
       " 'find',\n",
       " 'format',\n",
       " 'format_map',\n",
       " 'index',\n",
       " 'isalnum',\n",
       " 'isalpha',\n",
       " 'isascii',\n",
       " 'isdecimal',\n",
       " 'isdigit',\n",
       " 'isidentifier',\n",
       " 'islower',\n",
       " 'isnumeric',\n",
       " 'isprintable',\n",
       " 'isspace',\n",
       " 'istitle',\n",
       " 'isupper',\n",
       " 'join',\n",
       " 'ljust',\n",
       " 'lower',\n",
       " 'lstrip',\n",
       " 'maketrans',\n",
       " 'partition',\n",
       " 'replace',\n",
       " 'rfind',\n",
       " 'rindex',\n",
       " 'rjust',\n",
       " 'rpartition',\n",
       " 'rsplit',\n",
       " 'rstrip',\n",
       " 'split',\n",
       " 'splitlines',\n",
       " 'startswith',\n",
       " 'strip',\n",
       " 'swapcase',\n",
       " 'title',\n",
       " 'translate',\n",
       " 'upper',\n",
       " 'zfill']"
      ]
     },
     "execution_count": 1,
     "metadata": {},
     "output_type": "execute_result"
    }
   ],
   "source": [
    "name='sohail Arshad'\n",
    "dir(name)"
   ]
  },
  {
   "cell_type": "code",
   "execution_count": 8,
   "metadata": {},
   "outputs": [
    {
     "name": "stdout",
     "output_type": "stream",
     "text": [
      "Sohail arshad\n",
      "sohail arshad\n"
     ]
    }
   ],
   "source": [
    "a=\"sohail Arshad\"\n",
    "print(a.capitalize())\n",
    "print(a.casefold())\n"
   ]
  },
  {
   "cell_type": "code",
   "execution_count": 6,
   "metadata": {},
   "outputs": [
    {
     "name": "stdout",
     "output_type": "stream",
     "text": [
      "  sohail  \n"
     ]
    },
    {
     "data": {
      "text/plain": [
       "10"
      ]
     },
     "execution_count": 6,
     "metadata": {},
     "output_type": "execute_result"
    }
   ],
   "source": [
    "name='sohail'\n",
    "new_name=name.center(10)\n",
    "print(new_name)\n",
    "len(new_name)"
   ]
  },
  {
   "cell_type": "code",
   "execution_count": 16,
   "metadata": {},
   "outputs": [
    {
     "name": "stdout",
     "output_type": "stream",
     "text": [
      "Arshad\n",
      "********Arshad*******\n",
      "21\n"
     ]
    }
   ],
   "source": [
    "name='arshad'\n",
    "name=name.capitalize()\n",
    "print(name)\n",
    "\n",
    "name=name.center(21,'*')\n",
    "\n",
    "print(name)\n",
    "print(len(name))"
   ]
  },
  {
   "cell_type": "code",
   "execution_count": 27,
   "metadata": {},
   "outputs": [
    {
     "name": "stdout",
     "output_type": "stream",
     "text": [
      "&&&&&&&&Sohail&&&&&&&\n",
      "$$$$$$$$$$Arshad$$$$$$$$$\n",
      "&&&&&&&&sohail&&&&&&&\n"
     ]
    }
   ],
   "source": [
    "name='sohail'\n",
    "name=name.capitalize().center(21,'&')\n",
    "print(name)\n",
    "fname='arshad'\n",
    "fname=fname.capitalize().center(25,'$')\n",
    "print(fname)\n",
    "print(name.casefold())"
   ]
  },
  {
   "cell_type": "code",
   "execution_count": 41,
   "metadata": {},
   "outputs": [
    {
     "name": "stdout",
     "output_type": "stream",
     "text": [
      "1\n",
      "3\n"
     ]
    }
   ],
   "source": [
    "slogan='we love Pakistan and pakistan is our country,we have to work for PaKisTan'\n",
    "print(slogan.count('pakistan'))\n",
    "slogan=slogan.casefold()\n",
    "print(slogan.count('pakistan'))"
   ]
  },
  {
   "cell_type": "code",
   "execution_count": 42,
   "metadata": {},
   "outputs": [
    {
     "data": {
      "text/plain": [
       "dict_keys(['646', 'ansi_x3.4_1968', 'ansi_x3_4_1968', 'ansi_x3.4_1986', 'cp367', 'csascii', 'ibm367', 'iso646_us', 'iso_646.irv_1991', 'iso_ir_6', 'us', 'us_ascii', 'base64', 'base_64', 'big5_tw', 'csbig5', 'big5_hkscs', 'hkscs', 'bz2', '037', 'csibm037', 'ebcdic_cp_ca', 'ebcdic_cp_nl', 'ebcdic_cp_us', 'ebcdic_cp_wt', 'ibm037', 'ibm039', '1026', 'csibm1026', 'ibm1026', '1125', 'ibm1125', 'cp866u', 'ruscii', '1140', 'ibm1140', '1250', 'windows_1250', '1251', 'windows_1251', '1252', 'windows_1252', '1253', 'windows_1253', '1254', 'windows_1254', '1255', 'windows_1255', '1256', 'windows_1256', '1257', 'windows_1257', '1258', 'windows_1258', '273', 'ibm273', 'csibm273', '424', 'csibm424', 'ebcdic_cp_he', 'ibm424', '437', 'cspc8codepage437', 'ibm437', '500', 'csibm500', 'ebcdic_cp_be', 'ebcdic_cp_ch', 'ibm500', '775', 'cspc775baltic', 'ibm775', '850', 'cspc850multilingual', 'ibm850', '852', 'cspcp852', 'ibm852', '855', 'csibm855', 'ibm855', '857', 'csibm857', 'ibm857', '858', 'csibm858', 'ibm858', '860', 'csibm860', 'ibm860', '861', 'cp_is', 'csibm861', 'ibm861', '862', 'cspc862latinhebrew', 'ibm862', '863', 'csibm863', 'ibm863', '864', 'csibm864', 'ibm864', '865', 'csibm865', 'ibm865', '866', 'csibm866', 'ibm866', '869', 'cp_gr', 'csibm869', 'ibm869', '932', 'ms932', 'mskanji', 'ms_kanji', '949', 'ms949', 'uhc', '950', 'ms950', 'jisx0213', 'eucjis2004', 'euc_jis2004', 'eucjisx0213', 'eucjp', 'ujis', 'u_jis', 'euckr', 'korean', 'ksc5601', 'ks_c_5601', 'ks_c_5601_1987', 'ksx1001', 'ks_x_1001', 'gb18030_2000', 'chinese', 'csiso58gb231280', 'euc_cn', 'euccn', 'eucgb2312_cn', 'gb2312_1980', 'gb2312_80', 'iso_ir_58', '936', 'cp936', 'ms936', 'hex', 'roman8', 'r8', 'csHPRoman8', 'hzgb', 'hz_gb', 'hz_gb_2312', 'csiso2022jp', 'iso2022jp', 'iso_2022_jp', 'iso2022jp_1', 'iso_2022_jp_1', 'iso2022jp_2', 'iso_2022_jp_2', 'iso_2022_jp_2004', 'iso2022jp_2004', 'iso2022jp_3', 'iso_2022_jp_3', 'iso2022jp_ext', 'iso_2022_jp_ext', 'csiso2022kr', 'iso2022kr', 'iso_2022_kr', 'csisolatin6', 'iso_8859_10', 'iso_8859_10_1992', 'iso_ir_157', 'l6', 'latin6', 'thai', 'iso_8859_11', 'iso_8859_11_2001', 'iso_8859_13', 'l7', 'latin7', 'iso_8859_14', 'iso_8859_14_1998', 'iso_celtic', 'iso_ir_199', 'l8', 'latin8', 'iso_8859_15', 'l9', 'latin9', 'iso_8859_16', 'iso_8859_16_2001', 'iso_ir_226', 'l10', 'latin10', 'csisolatin2', 'iso_8859_2', 'iso_8859_2_1987', 'iso_ir_101', 'l2', 'latin2', 'csisolatin3', 'iso_8859_3', 'iso_8859_3_1988', 'iso_ir_109', 'l3', 'latin3', 'csisolatin4', 'iso_8859_4', 'iso_8859_4_1988', 'iso_ir_110', 'l4', 'latin4', 'csisolatincyrillic', 'cyrillic', 'iso_8859_5', 'iso_8859_5_1988', 'iso_ir_144', 'arabic', 'asmo_708', 'csisolatinarabic', 'ecma_114', 'iso_8859_6', 'iso_8859_6_1987', 'iso_ir_127', 'csisolatingreek', 'ecma_118', 'elot_928', 'greek', 'greek8', 'iso_8859_7', 'iso_8859_7_1987', 'iso_ir_126', 'csisolatinhebrew', 'hebrew', 'iso_8859_8', 'iso_8859_8_1988', 'iso_ir_138', 'csisolatin5', 'iso_8859_9', 'iso_8859_9_1989', 'iso_ir_148', 'l5', 'latin5', 'cp1361', 'ms1361', 'cskoi8r', 'kz_1048', 'rk1048', 'strk1048_2002', '8859', 'cp819', 'csisolatin1', 'ibm819', 'iso8859', 'iso8859_1', 'iso_8859_1', 'iso_8859_1_1987', 'iso_ir_100', 'l1', 'latin', 'latin1', 'maccyrillic', 'macgreek', 'maciceland', 'maccentraleurope', 'maclatin2', 'macintosh', 'macroman', 'macturkish', 'ansi', 'dbcs', 'csptcp154', 'pt154', 'cp154', 'cyrillic_asian', 'quopri', 'quoted_printable', 'quotedprintable', 'rot13', 'csshiftjis', 'shiftjis', 'sjis', 's_jis', 'shiftjis2004', 'sjis_2004', 's_jis_2004', 'shiftjisx0213', 'sjisx0213', 's_jisx0213', 'tis260', 'tis620', 'tis_620_0', 'tis_620_2529_0', 'tis_620_2529_1', 'iso_ir_166', 'u16', 'utf16', 'unicodebigunmarked', 'utf_16be', 'unicodelittleunmarked', 'utf_16le', 'u32', 'utf32', 'utf_32be', 'utf_32le', 'u7', 'utf7', 'unicode_1_1_utf_7', 'u8', 'utf', 'utf8', 'utf8_ucs2', 'utf8_ucs4', 'uu', 'zip', 'zlib', 'x_mac_japanese', 'x_mac_korean', 'x_mac_simp_chinese', 'x_mac_trad_chinese'])"
      ]
     },
     "execution_count": 42,
     "metadata": {},
     "output_type": "execute_result"
    }
   ],
   "source": [
    "from encodings.aliases import aliases\n",
    "aliases.keys()"
   ]
  },
  {
   "cell_type": "code",
   "execution_count": 52,
   "metadata": {},
   "outputs": [
    {
     "name": "stdout",
     "output_type": "stream",
     "text": [
      "b'My name is sohail Arshad'\n"
     ]
    }
   ],
   "source": [
    "string='My name is sohail Arshad'\n",
    "print(string.encode('ansi_x3.4_1968' , 'strict'))\n",
    "# encode method not working well"
   ]
  },
  {
   "cell_type": "code",
   "execution_count": 14,
   "metadata": {},
   "outputs": [
    {
     "name": "stdout",
     "output_type": "stream",
     "text": [
      "False\n",
      "True\n",
      "35\n",
      "a\n",
      "True\n"
     ]
    }
   ],
   "source": [
    "string='We live in Pakistan,I am PakistanI.'\n",
    "print(string.endswith('Pakistani.'))\n",
    "string=string.casefold()\n",
    "print(string.endswith('pakistani.'))\n",
    "print(len(string))\n",
    "print(string[22])\n",
    "print(string.endswith('am',22,24))"
   ]
  },
  {
   "cell_type": "code",
   "execution_count": 21,
   "metadata": {},
   "outputs": [
    {
     "name": "stdout",
     "output_type": "stream",
     "text": [
      "False\n",
      "True\n",
      "hello every one\n",
      "False\n",
      "True\n"
     ]
    }
   ],
   "source": [
    "string=\"Hello every One\"\n",
    "print(string.startswith('hello'))\n",
    "print(string.startswith('Hello'))\n",
    "string=string.casefold()\n",
    "print(string)\n",
    "print(string.startswith('Hello'))\n",
    "print(string.startswith('hello'))\n"
   ]
  },
  {
   "cell_type": "code",
   "execution_count": 28,
   "metadata": {},
   "outputs": [
    {
     "name": "stdout",
     "output_type": "stream",
     "text": [
      "twinkil twinkil little star \n",
      "\t how i wonder what you are.\n",
      "57\n",
      "Enter word you want to search : TwinKiL\n",
      "True\n"
     ]
    }
   ],
   "source": [
    "string='Twinkil twinkil Little star \\n\\t How I wonder what you are.'.lower()\n",
    "print(string)\n",
    "print(len(string))\n",
    "n=input('Enter word you want to search : ').lower()\n",
    "print(string.startswith(n))"
   ]
  },
  {
   "cell_type": "code",
   "execution_count": 41,
   "metadata": {},
   "outputs": [
    {
     "name": "stdout",
     "output_type": "stream",
     "text": [
      "Impossible is Nothing\n",
      "impossible is nothing\n",
      "IMPOSSIBLE IS NOTHING\n",
      "21\n",
      "Impossible is nothing\n",
      "**IMPOSSIBLE IS NOTHING**\n",
      "21\n",
      "**IMPOSSIBLE IS NOTHING**\n",
      "25\n",
      "Capture More Customers With A Great Brand Recall\n",
      "Capture more customers with a great brand recall\n"
     ]
    }
   ],
   "source": [
    "s='Impossible is Nothing'\n",
    "print(s)\n",
    "s=s.lower()\n",
    "print(s)\n",
    "s=s.upper()\n",
    "print(s)\n",
    "print(len(s))\n",
    "print(s.capitalize())\n",
    "print(s.center(25,'*'))\n",
    "print(len(s))\n",
    "s=s.center(25,'*')\n",
    "print(s)\n",
    "print(len(s))\n",
    "s1='Capture more customers with a great brand recall'\n",
    "print(s1.title())\n",
    "print(s1)"
   ]
  },
  {
   "cell_type": "code",
   "execution_count": 1,
   "metadata": {},
   "outputs": [
    {
     "data": {
      "text/plain": [
       "['Technology',\n",
       " 'is',\n",
       " 'complicated.',\n",
       " 'It’s',\n",
       " 'complex',\n",
       " 'and',\n",
       " 'branches',\n",
       " 'out',\n",
       " 'in',\n",
       " 'various',\n",
       " 'directions.']"
      ]
     },
     "execution_count": 1,
     "metadata": {},
     "output_type": "execute_result"
    }
   ],
   "source": [
    "text='Technology is complicated. It’s complex and branches out in various directions.'\n",
    "text.split()"
   ]
  },
  {
   "cell_type": "code",
   "execution_count": 10,
   "metadata": {},
   "outputs": [
    {
     "name": "stdout",
     "output_type": "stream",
     "text": [
      "['technology', 'is', 'complited']\n",
      "technology:is:complited\n",
      "['technology', 'is', 'complited']\n",
      "['cat', 'bat', 'sat', 'rat', 'gat']\n"
     ]
    }
   ],
   "source": [
    "text='technology:is:complited'\n",
    "print(text.split(':'))\n",
    "print(text)\n",
    "text1='technology,is,complited'\n",
    "print(text1.split(','))\n",
    "word='catbatsatratgat'\n",
    "print([word[i:i+3] for i in range(0, len(word), 3)])\n",
    "# whats going on in the upper statment"
   ]
  },
  {
   "cell_type": "code",
   "execution_count": 17,
   "metadata": {},
   "outputs": [
    {
     "name": "stdout",
     "output_type": "stream",
     "text": [
      "['Technology', 'is', 'complicated.', 'It’s', 'complex', 'and', 'branches', 'out', 'in', 'various', 'directions.']\n",
      "['Python', 'is', 'object', 'oriented', 'programing', 'language']\n",
      "['Python', 'is', 'object', 'oriented', 'programing', 'language']\n",
      "['Python@is@object@oriented', 'programing', 'language']\n",
      "['Python', 'is@object@oriented@programing@language']\n"
     ]
    }
   ],
   "source": [
    "text='Technology is complicated. It’s complex and branches out in various directions.'\n",
    "print(text.rsplit())\n",
    "text2='Python@is@object@oriented@programing@language'\n",
    "print(text2.rsplit('@'))\n",
    "print(text2.split('@'))\n",
    "print(text2.rsplit('@',2))\n",
    "print(text2.split('@',1))"
   ]
  },
  {
   "cell_type": "code",
   "execution_count": 40,
   "metadata": {},
   "outputs": [
    {
     "name": "stdout",
     "output_type": "stream",
     "text": [
      "www.geekforgeeks\n",
      "@@@@@@Sohail Arshad@@@@@@\n",
      "25\n",
      "Sohail Arshad\n",
      "25\n",
      "27\n",
      "Sohail Arshad\n",
      "13\n",
      "@My name is sohail Arshad\n",
      "    I live in Islamabad\n",
      "I live in Islamabad\n",
      "technologyssss issss complex terminology and we have to understand thiss a\n",
      "My@name@is@sohail@arshad\n",
      "%my%name%is%sohail%arshad%I%live%in%islamabad\n",
      "my%name%is%sohail%arshad%I%live%in%islamabad%\n"
     ]
    }
   ],
   "source": [
    "string='www.geekforgeeks.org'\n",
    "print(string.strip('.org'))\n",
    "string1='@@@@@@Sohail Arshad@@@@@@'\n",
    "string2='        Sohail Arshad      '\n",
    "print(string1.strip())\n",
    "print(len(string1))\n",
    "print(string1.strip('@'))\n",
    "print(len(string1))\n",
    "print(len(string2))\n",
    "string2=string2.strip()\n",
    "print(string2)\n",
    "print(len(string2))\n",
    "stringr='@My name is sohail Arshad@'\n",
    "print(stringr.rstrip('@'))\n",
    "stringrr='    I live in Islamabad    '\n",
    "print(stringrr.rstrip())\n",
    "print(stringrr.strip())\n",
    "chk_string='technologyssss issss complex terminology and we have to understand thiss assss'\n",
    "print(chk_string.strip('s'))\n",
    "chk_string2='@My@name@is@sohail@arshad@'\n",
    "print(chk_string2.strip('@'))\n",
    "chk_string3='%my%name%is%sohail%arshad%I%live%in%islamabad%'\n",
    "print(chk_string3.rstrip('%'))\n",
    "print(chk_string3.lstrip('%'))"
   ]
  },
  {
   "cell_type": "code",
   "execution_count": 42,
   "metadata": {},
   "outputs": [
    {
     "name": "stdout",
     "output_type": "stream",
     "text": [
      "My@name@is@sohail@arshad\n",
      "My@name@is@sohail@arshad@\n",
      "@My@name@is@sohail@arshad\n"
     ]
    }
   ],
   "source": [
    "chk_string2='@My@name@is@sohail@arshad@'\n",
    "print(chk_string2.strip('@'))\n",
    "print(chk_string2.lstrip('@'))\n",
    "print(chk_string2.rstrip('@'))"
   ]
  },
  {
   "cell_type": "code",
   "execution_count": 21,
   "metadata": {},
   "outputs": [
    {
     "name": "stdout",
     "output_type": "stream",
     "text": [
      "['welcome to ', ' pakistan, we are ', ' pakistani,belong to ', ' punjanb']\n",
      "['welcome to ', ' pakistan, we are ', ' pakistani,belong to ', ' punjanb']\n",
      "['technology changes ', ' our lives and now aday', ' we can not live with', ' out technology']\n",
      "['technology changes ', ' our lives and now aday', ' we can not live with', ' out technology']\n",
      "['technology changes \\r', ' our lives and now aday\\n', ' we can not live with\\r', ' out technology']\n"
     ]
    }
   ],
   "source": [
    "string='welcome to \\n pakistan, we are \\r pakistani,belong to \\r punjanb'\n",
    "print(string.splitlines())\n",
    "print(string.splitlines(0))\n",
    "string2='technology changes \\r our lives and now aday\\n we can not live with\\r out technology'\n",
    "print(string2.splitlines())\n",
    "print(string2.splitlines(0))\n",
    "print(string2.splitlines(True))"
   ]
  },
  {
   "cell_type": "code",
   "execution_count": 23,
   "metadata": {},
   "outputs": [
    {
     "data": {
      "text/plain": [
       "['technology',\n",
       " 'changes',\n",
       " 'our',\n",
       " 'lives',\n",
       " 'and',\n",
       " 'now',\n",
       " 'aday',\n",
       " 'we',\n",
       " 'can',\n",
       " 'not',\n",
       " 'live',\n",
       " 'with',\n",
       " 'out',\n",
       " 'technology']"
      ]
     },
     "execution_count": 23,
     "metadata": {},
     "output_type": "execute_result"
    }
   ],
   "source": [
    "string2='technology changes our lives and now aday\\n we can not live with out technology '\n",
    "string2.split()"
   ]
  },
  {
   "cell_type": "code",
   "execution_count": 26,
   "metadata": {},
   "outputs": [
    {
     "name": "stdout",
     "output_type": "stream",
     "text": [
      "['A', 'man', 'who', ',dares:', 'to', 'waste', ',one', 'hour', 'of:', 'time', 'has,', 'not', ',discovered', 'the,', 'value', 'of', ',life.']\n",
      "['A man who ,dares', ' to waste ,one hour of', ' time has, not ,discovered the, value of ,life.']\n",
      "['A man who ', 'dares: to waste ', 'one hour of: time has', ' not ', 'discovered the', ' value of ', 'life.']\n"
     ]
    }
   ],
   "source": [
    "string=\"A man who ,dares: to waste ,one hour of: time has, not ,discovered the, value of ,life.\"\n",
    "print(string.split())\n",
    "print(string.split(':'))\n",
    "print(string.split(','))\n"
   ]
  },
  {
   "cell_type": "code",
   "execution_count": 29,
   "metadata": {},
   "outputs": [
    {
     "name": "stdout",
     "output_type": "stream",
     "text": [
      "['A man who dares to waste one hour of time has not discovered the value', 'of', 'life.']\n",
      "['A man who dares to waste one hour of time has not discovered', 'the', 'value', 'of', 'life.']\n",
      "['A', 'man', 'who', 'dares', 'to', 'waste', 'one', 'hour', 'of', 'time', 'has', 'not', 'discovered', 'the', 'value', 'of', 'life.']\n"
     ]
    }
   ],
   "source": [
    "string=\"A man who dares to waste one hour of time has not discovered the value of life.\"\n",
    "print(string.rsplit(\" \",2))\n",
    "print(string.rsplit(\" \",4))\n",
    "print(string.rsplit())"
   ]
  },
  {
   "cell_type": "code",
   "execution_count": 32,
   "metadata": {},
   "outputs": [
    {
     "name": "stdout",
     "output_type": "stream",
     "text": [
      "0000000sohail arshad\n",
      "000000604232\n"
     ]
    }
   ],
   "source": [
    "name='sohail arshad'\n",
    "print(name.zfill(20))\n",
    "number=\"604232\"\n",
    "print(number.zfill(12))"
   ]
  },
  {
   "cell_type": "code",
   "execution_count": 37,
   "metadata": {},
   "outputs": [
    {
     "name": "stdout",
     "output_type": "stream",
     "text": [
      "SOHAIL ARSHAD\n",
      "muhammad arshad\n",
      "soHAil wARRaicH\n"
     ]
    }
   ],
   "source": [
    "name='sohail arshad'\n",
    "print(name.swapcase())\n",
    "name2=\"MUHAMMAD ARSHAD\"\n",
    "print(name2.swapcase())\n",
    "name3=\"SOhaIL WarrAICh\"\n",
    "print(name3.swapcase())"
   ]
  },
  {
   "cell_type": "code",
   "execution_count": 45,
   "metadata": {},
   "outputs": [
    {
     "name": "stdout",
     "output_type": "stream",
     "text": [
      "True\n"
     ]
    }
   ],
   "source": [
    "string=\"My name is sohail arshad\"\n",
    "print(string.startswith('My name '))"
   ]
  },
  {
   "cell_type": "code",
   "execution_count": 50,
   "metadata": {},
   "outputs": [
    {
     "name": "stdout",
     "output_type": "stream",
     "text": [
      "('A man who dares has to waste one hour of time has not discovered ', 'has', ' the value of life.')\n",
      "('A man who dares ', 'has', ' to waste one hour of time has not discovered has the value of life.')\n"
     ]
    }
   ],
   "source": [
    "quot='A man who dares has to waste one hour of time has not discovered has the value of life.'\n",
    "print(quot.rpartition('has'))\n",
    "print(quot.partition('has'))"
   ]
  },
  {
   "cell_type": "code",
   "execution_count": 51,
   "metadata": {},
   "outputs": [
    {
     "name": "stdout",
     "output_type": "stream",
     "text": [
      "@@@@sohail\n"
     ]
    }
   ],
   "source": [
    "name='sohail'\n",
    "print(name.rjust(10,'@'))"
   ]
  },
  {
   "cell_type": "code",
   "execution_count": 53,
   "metadata": {},
   "outputs": [
    {
     "name": "stdout",
     "output_type": "stream",
     "text": [
      "sohail******\n",
      "***sohail***\n"
     ]
    }
   ],
   "source": [
    "name=\"sohail\"\n",
    "print(name.ljust(12,'*'))\n",
    "print(name.center(12,'*'))"
   ]
  },
  {
   "cell_type": "code",
   "execution_count": 67,
   "metadata": {},
   "outputs": [
    {
     "name": "stdout",
     "output_type": "stream",
     "text": [
      "110\n",
      "88\n",
      "21\n",
      "61\n",
      "80\n",
      "88\n",
      "not discov\n"
     ]
    }
   ],
   "source": [
    "text='A man who have dares has to waste have one hour of have time has not discovered has the has have value of life'\n",
    "print(len(text))\n",
    "print(text.rindex('has'))\n",
    "print(text.index('has'))\n",
    "print(text.index('has',25))\n",
    "print(text.rindex('has',65,90))\n",
    "print(text.rindex('has',80))\n",
    "print(text[65:75])"
   ]
  },
  {
   "cell_type": "code",
   "execution_count": 81,
   "metadata": {},
   "outputs": [
    {
     "name": "stdout",
     "output_type": "stream",
     "text": [
      "92\n",
      "10\n",
      "-1\n",
      "ve dares has to waste hav\n"
     ]
    }
   ],
   "source": [
    "text='A man who have dares has to waste have one hour of have time has not discovered has the has have value of life'\n",
    "print(text.rfind('have'))\n",
    "print(text.find('have'))\n",
    "print(text.find('have',12,37))\n",
    "print(text[12:37])"
   ]
  },
  {
   "cell_type": "code",
   "execution_count": 85,
   "metadata": {},
   "outputs": [
    {
     "name": "stdout",
     "output_type": "stream",
     "text": [
      "6\n",
      "l\n",
      "rahail\n"
     ]
    }
   ],
   "source": [
    "name='sohail'\n",
    "print(len(name))\n",
    "print(name[5])\n",
    "print(name.replace('so','ra'))"
   ]
  },
  {
   "cell_type": "code",
   "execution_count": 88,
   "metadata": {},
   "outputs": [
    {
     "name": "stdout",
     "output_type": "stream",
     "text": [
      "{77: 109, 121: 121, 32: 32, 110: 78, 97: 65, 109: 77, 101: 69, 105: 73, 115: 83}\n"
     ]
    }
   ],
   "source": [
    "name='My name is sohail arshad'\n",
    "n='My name is '\n",
    "x='my NAME IS '\n",
    "print(name.maketrans(n,x))"
   ]
  },
  {
   "cell_type": "code",
   "execution_count": 89,
   "metadata": {},
   "outputs": [
    {
     "name": "stdout",
     "output_type": "stream",
     "text": [
      "{119: 103, 121: 102, 117: None}\n"
     ]
    }
   ],
   "source": [
    "text=\"weeksyourweeks\"\n",
    "n='wy'\n",
    "x='gf'\n",
    "z='u'\n",
    "print(text.maketrans(n,x,z))"
   ]
  },
  {
   "cell_type": "code",
   "execution_count": 90,
   "metadata": {},
   "outputs": [
    {
     "name": "stdout",
     "output_type": "stream",
     "text": [
      "sI AMoI AMhI AMaI AMiI AMlI AM I AMAI AMrI AMsI AMhI AMaI AMd\n"
     ]
    }
   ],
   "source": [
    "string1=\"I AM\"\n",
    "string2=\"sohail Arshad\"\n",
    "print(string1.join(string2))"
   ]
  },
  {
   "cell_type": "code",
   "execution_count": 95,
   "metadata": {},
   "outputs": [
    {
     "name": "stdout",
     "output_type": "stream",
     "text": [
      "1-2-3-4-5\n",
      "s%o%h%a%i%l\n"
     ]
    }
   ],
   "source": [
    "t1=('1','2','3','4','5')\n",
    "l1='sohail'\n",
    "j='-'\n",
    "j=j.join(t1)\n",
    "print(j)\n",
    "j1='%'\n",
    "output=j1.join(l1)\n",
    "print(output)"
   ]
  },
  {
   "cell_type": "code",
   "execution_count": 104,
   "metadata": {},
   "outputs": [
    {
     "name": "stdout",
     "output_type": "stream",
     "text": [
      "False\n",
      "True\n",
      "True\n",
      "False\n",
      "False\n",
      "False\n"
     ]
    }
   ],
   "source": [
    "name='sohail arshad'\n",
    "print(name.isupper())\n",
    "print(name.islower())\n",
    "name2=\"SOHAIL ARSHAD\"\n",
    "print(name2.isupper())\n",
    "print(name2.islower())\n",
    "city=\"ISlamabad\"\n",
    "print(city.istitle())\n",
    "print(city.isupper())"
   ]
  },
  {
   "cell_type": "code",
   "execution_count": 109,
   "metadata": {},
   "outputs": [
    {
     "name": "stdout",
     "output_type": "stream",
     "text": [
      "True\n",
      "False\n",
      "False\n",
      "True\n"
     ]
    }
   ],
   "source": [
    "string='12345677'\n",
    "string2='djhasfjhjfh'\n",
    "print(string.isnumeric())\n",
    "print(string2.isnumeric())\n",
    "print(string2.isdigit())\n",
    "print(string.isdigit())"
   ]
  },
  {
   "cell_type": "code",
   "execution_count": 111,
   "metadata": {},
   "outputs": [
    {
     "name": "stdout",
     "output_type": "stream",
     "text": [
      "True\n",
      "True\n"
     ]
    }
   ],
   "source": [
    "string='1234556'\n",
    "print(string.isdigit())\n",
    "print(string.isnumeric())"
   ]
  },
  {
   "cell_type": "code",
   "execution_count": 113,
   "metadata": {},
   "outputs": [
    {
     "name": "stdout",
     "output_type": "stream",
     "text": [
      "False\n",
      "False\n"
     ]
    }
   ],
   "source": [
    "string='2.3,4.5,5.6,7.4,4.3'\n",
    "print(string.isnumeric())\n",
    "print(string.isdecimal())"
   ]
  },
  {
   "cell_type": "code",
   "execution_count": 117,
   "metadata": {},
   "outputs": [
    {
     "name": "stdout",
     "output_type": "stream",
     "text": [
      "False\n",
      "False\n"
     ]
    }
   ],
   "source": [
    "s='2.3,4,5,6'\n",
    "print(s.isdecimal())\n",
    "s1='3,4,5,67,7,8,7,6'\n",
    "print(s1.isdecimal())"
   ]
  },
  {
   "cell_type": "code",
   "execution_count": 119,
   "metadata": {},
   "outputs": [
    {
     "data": {
      "text/plain": [
       "True"
      ]
     },
     "execution_count": 119,
     "metadata": {},
     "output_type": "execute_result"
    }
   ],
   "source": [
    "s3='2345'\n",
    "s3.isdecimal()"
   ]
  },
  {
   "cell_type": "code",
   "execution_count": 120,
   "metadata": {},
   "outputs": [
    {
     "name": "stdout",
     "output_type": "stream",
     "text": [
      "True\n"
     ]
    }
   ],
   "source": [
    "myname=\"sohail\"\n",
    "print(myname.isalpha())"
   ]
  },
  {
   "cell_type": "code",
   "execution_count": 121,
   "metadata": {},
   "outputs": [
    {
     "data": {
      "text/plain": [
       "False"
      ]
     },
     "execution_count": 121,
     "metadata": {},
     "output_type": "execute_result"
    }
   ],
   "source": [
    "myname1='sohail1'\n",
    "myname1.isalpha()"
   ]
  },
  {
   "cell_type": "code",
   "execution_count": 134,
   "metadata": {},
   "outputs": [
    {
     "name": "stdout",
     "output_type": "stream",
     "text": [
      "True\n",
      "False\n",
      "False\n",
      "True\n",
      "False\n",
      "False\n"
     ]
    }
   ],
   "source": [
    "myname2='sohail1'\n",
    "print(myname2.isalnum())\n",
    "name3='sohail arshad'\n",
    "print(name3.isalpha())\n",
    "dig='123def'\n",
    "print(dig.isalpha())\n",
    "print(dig.isalnum())\n",
    "namee=\"sohailarshad&\"\n",
    "print(namee.isalpha())\n",
    "print(namee.isalnum())\n"
   ]
  },
  {
   "cell_type": "code",
   "execution_count": 138,
   "metadata": {},
   "outputs": [
    {
     "name": "stdout",
     "output_type": "stream",
     "text": [
      "False\n",
      "True\n",
      "True\n",
      "False\n"
     ]
    }
   ],
   "source": [
    "name1='sohail arshad'\n",
    "name2='sohailWarraiCh'\n",
    "digt='dsf3435sff34'\n",
    "digt2='2323ssff34sfs'\n",
    "print(name1.isidentifier())\n",
    "print(name2.isidentifier())\n",
    "print(digt.isidentifier())\n",
    "print(digt2.isidentifier())"
   ]
  },
  {
   "cell_type": "code",
   "execution_count": 2,
   "metadata": {},
   "outputs": [
    {
     "name": "stdout",
     "output_type": "stream",
     "text": [
      "Enter your name : sohail arshad\n",
      "My name is sohail arshad\n"
     ]
    }
   ],
   "source": [
    "name=input('Enter your name : ')\n",
    "print('My name is {}'.format(name))"
   ]
  },
  {
   "cell_type": "code",
   "execution_count": 5,
   "metadata": {},
   "outputs": [
    {
     "name": "stdout",
     "output_type": "stream",
     "text": [
      "My full name is sohail arshad warraich\n",
      "ali is engineer and he is 30 years old and asim is doctor and he is 31 years old \n"
     ]
    }
   ],
   "source": [
    "dict={'fname':'sohail','mname':'arshad','lname':'warraich'}\n",
    "print('My full name is {fname} {mname} {lname}'.format_map(dict))\n",
    "\n",
    "professional={'name':['ali','asim'],'profession':['engineer','doctor'],'age':[30,31]}\n",
    "print(\"{name[0]} is {profession[0]} and he is {age[0]} years old and {name[1]} is {profession[1]} and he is {age[1]} years old \\\n",
    "\".format_map(professional) )"
   ]
  },
  {
   "cell_type": "code",
   "execution_count": 30,
   "metadata": {},
   "outputs": [
    {
     "name": "stdout",
     "output_type": "stream",
     "text": [
      "hello        i am sohail arshad\n",
      "hello \t i am sohail arshad\n",
      "hello        i am sohail arshad\n",
      "hello \t i am sohail arshad\n"
     ]
    }
   ],
   "source": [
    "string=\"hello \\t i am sohail arshad\"\n",
    "print(string.expandtabs(12))\n",
    "print(string)\n",
    "print(\"hello \\t i am sohail arshad\".expandtabs(12))\n",
    "print(\"hello \\t i am sohail arshad\")"
   ]
  },
  {
   "cell_type": "code",
   "execution_count": null,
   "metadata": {},
   "outputs": [],
   "source": []
  }
 ],
 "metadata": {
  "kernelspec": {
   "display_name": "Python 3",
   "language": "python",
   "name": "python3"
  },
  "language_info": {
   "codemirror_mode": {
    "name": "ipython",
    "version": 3
   },
   "file_extension": ".py",
   "mimetype": "text/x-python",
   "name": "python",
   "nbconvert_exporter": "python",
   "pygments_lexer": "ipython3",
   "version": "3.7.4"
  }
 },
 "nbformat": 4,
 "nbformat_minor": 2
}
