{
 "cells": [
  {
   "cell_type": "raw",
   "metadata": {},
   "source": [
    "# Functions\n",
    "Pre define functions\n",
    "User Define Functions\n",
    "Recursive Functions\n",
    "Lambda Functions\n",
    "Required Arguments\n",
    "Optional Arguments\n",
    "Return\n",
    "Non Return\n",
    "Defualt Arguments\n",
    "postional Arguments\n",
    "KeyWord Arguments\n",
    "Argument with List\n",
    "Argument with Dictionary"
   ]
  },
  {
   "cell_type": "markdown",
   "metadata": {},
   "source": [
    "# Pre define function"
   ]
  },
  {
   "cell_type": "code",
   "execution_count": 8,
   "metadata": {},
   "outputs": [
    {
     "name": "stdout",
     "output_type": "stream",
     "text": [
      "hello world\n",
      "<class 'str'>\n",
      "2328084474736\n",
      "['a', 'c', 'l']\n",
      "4\n",
      "hello pakistan\n"
     ]
    }
   ],
   "source": [
    "print('hello world')\n",
    "print(type('a'))\n",
    "print(id('a'))\n",
    "print(sorted('alc'))\n",
    "print(sum([1+3]))\n",
    "print('hello pakistan')"
   ]
  },
  {
   "cell_type": "markdown",
   "metadata": {},
   "source": [
    "# User define function"
   ]
  },
  {
   "cell_type": "code",
   "execution_count": 11,
   "metadata": {},
   "outputs": [
    {
     "name": "stdout",
     "output_type": "stream",
     "text": [
      "pakistan zindabad\n",
      "we are pakistani\n",
      "we love our country\n",
      "pakistan zindabad\n",
      "we are pakistani\n",
      "we love our country\n"
     ]
    }
   ],
   "source": [
    "def abc():\n",
    "    print('pakistan zindabad')\n",
    "    print('we are pakistani')\n",
    "    print('we love our country')\n",
    "abc()\n",
    "abc()"
   ]
  },
  {
   "cell_type": "markdown",
   "metadata": {},
   "source": [
    "# Reqired argument"
   ]
  },
  {
   "cell_type": "code",
   "execution_count": 13,
   "metadata": {},
   "outputs": [
    {
     "name": "stdout",
     "output_type": "stream",
     "text": [
      "\n",
      "        PIAIC ISLAMABAD\n",
      "        student ID : 1\n",
      "        Student Name : sohail\n",
      "        Father Name : arshad\n",
      "        Course : AIC\n",
      "        Timing : 12 to 3\n",
      "        \n",
      "\n",
      "        PIAIC ISLAMABAD\n",
      "        student ID : 2\n",
      "        Student Name : aslam\n",
      "        Father Name : pasha\n",
      "        Course : AIC\n",
      "        Timing : 12 to 3\n",
      "        \n"
     ]
    }
   ],
   "source": [
    "def id_card(sid,sname,fname,course,timing):\n",
    "    print(\n",
    "        f'''\n",
    "        PIAIC ISLAMABAD\n",
    "        student ID : {sid}\n",
    "        Student Name : {sname}\n",
    "        Father Name : {fname}\n",
    "        Course : {course}\n",
    "        Timing : {timing}\n",
    "        '''\n",
    "    )\n",
    "\n",
    "id_card(1,'sohail','arshad','AIC','12 to 3')\n",
    "id_card(2,'aslam','pasha','AIC','12 to 3')"
   ]
  },
  {
   "cell_type": "code",
   "execution_count": 14,
   "metadata": {},
   "outputs": [
    {
     "ename": "TypeError",
     "evalue": "id_card() missing 2 required positional arguments: 'course' and 'timing'",
     "output_type": "error",
     "traceback": [
      "\u001b[1;31m---------------------------------------------------------------------------\u001b[0m",
      "\u001b[1;31mTypeError\u001b[0m                                 Traceback (most recent call last)",
      "\u001b[1;32m<ipython-input-14-23e2f9d22715>\u001b[0m in \u001b[0;36m<module>\u001b[1;34m\u001b[0m\n\u001b[1;32m----> 1\u001b[1;33m \u001b[0mid_card\u001b[0m\u001b[1;33m(\u001b[0m\u001b[1;36m3\u001b[0m\u001b[1;33m,\u001b[0m\u001b[1;34m'waqas'\u001b[0m\u001b[1;33m,\u001b[0m\u001b[1;34m'12 to 3'\u001b[0m\u001b[1;33m)\u001b[0m\u001b[1;33m\u001b[0m\u001b[1;33m\u001b[0m\u001b[0m\n\u001b[0m",
      "\u001b[1;31mTypeError\u001b[0m: id_card() missing 2 required positional arguments: 'course' and 'timing'"
     ]
    }
   ],
   "source": [
    "id_card(3,'waqas','12 to 3')"
   ]
  },
  {
   "cell_type": "markdown",
   "metadata": {},
   "source": [
    "# Optional Argument"
   ]
  },
  {
   "cell_type": "code",
   "execution_count": 19,
   "metadata": {},
   "outputs": [
    {
     "name": "stdout",
     "output_type": "stream",
     "text": [
      "2 0 0\n",
      "2\n",
      "2 3 0\n",
      "5\n"
     ]
    }
   ],
   "source": [
    "def plus(x,y=0,z=0):\n",
    "    print(x,y,z)\n",
    "    print(x+y+z)\n",
    "\n",
    "plus(2)\n",
    "plus(2,3)\n",
    "# plus()"
   ]
  },
  {
   "cell_type": "markdown",
   "metadata": {},
   "source": [
    "# Non Return function"
   ]
  },
  {
   "cell_type": "code",
   "execution_count": 20,
   "metadata": {},
   "outputs": [
    {
     "name": "stdout",
     "output_type": "stream",
     "text": [
      "pakistan\n",
      "None\n"
     ]
    }
   ],
   "source": [
    "a=print('pakistan')\n",
    "print(a)"
   ]
  },
  {
   "cell_type": "code",
   "execution_count": 28,
   "metadata": {},
   "outputs": [
    {
     "data": {
      "text/plain": [
       "15"
      ]
     },
     "execution_count": 28,
     "metadata": {},
     "output_type": "execute_result"
    }
   ],
   "source": [
    "def plus(x=0,y=0,z=0):\n",
    "    return x+y+z    # only return first return value\n",
    "    return x*y*z\n",
    "plus()\n",
    "plus(1,2,3)\n",
    "plus(4,5,6)"
   ]
  },
  {
   "cell_type": "code",
   "execution_count": 32,
   "metadata": {},
   "outputs": [
    {
     "name": "stdout",
     "output_type": "stream",
     "text": [
      "hello pak\n",
      "hello sohail\n"
     ]
    },
    {
     "data": {
      "text/plain": [
       "'Hi sohail'"
      ]
     },
     "execution_count": 32,
     "metadata": {},
     "output_type": "execute_result"
    }
   ],
   "source": [
    "def hello(a):\n",
    "     print(f'hello {a}')\n",
    "     return f'Hi {a}'\n",
    "hello('pak')\n",
    "hello('sohail')"
   ]
  },
  {
   "cell_type": "code",
   "execution_count": 33,
   "metadata": {},
   "outputs": [
    {
     "name": "stdout",
     "output_type": "stream",
     "text": [
      "15 15\n"
     ]
    }
   ],
   "source": [
    "def pls(x=0, y=0, z=0):\n",
    "    return x+y+z # Alway return first return statment\n",
    "    return x*y*z\n",
    "    return x+y*z\n",
    "\n",
    "a = pls(7,8)\n",
    "b = pls(8,4,3)\n",
    "\n",
    "print(a,b)"
   ]
  },
  {
   "cell_type": "code",
   "execution_count": 34,
   "metadata": {},
   "outputs": [
    {
     "data": {
      "text/plain": [
       "(13, 56, 30)"
      ]
     },
     "execution_count": 34,
     "metadata": {},
     "output_type": "execute_result"
    }
   ],
   "source": [
    "def pls(x=0,y=0,z=0):\n",
    "    return x+y+z,x*y*z,x+y*z\n",
    "pls(2,4,7)"
   ]
  },
  {
   "cell_type": "markdown",
   "metadata": {},
   "source": [
    "# Keyword Arguments"
   ]
  },
  {
   "cell_type": "code",
   "execution_count": 35,
   "metadata": {},
   "outputs": [
    {
     "name": "stdout",
     "output_type": "stream",
     "text": [
      "\n",
      "    PIAIC Islamabad\n",
      "    Student id: 11\n",
      "    Name: A.I\n",
      "    Father's Name: 12 to 3\n",
      "    course: Arshad\n",
      "    Timing: Sohail\n",
      "    \n"
     ]
    }
   ],
   "source": [
    "def id_card(sid, sname, fname, course, timing):\n",
    "    print(f\"\"\"\n",
    "    PIAIC Islamabad\n",
    "    Student id: {sid}\n",
    "    Name: {sname}\n",
    "    Father's Name: {fname}\n",
    "    course: {course}\n",
    "    Timing: {timing}\n",
    "    \"\"\")\n",
    "\n",
    "id_card(11,\"A.I\",\"12 to 3\",\"Arshad\",'Sohail')"
   ]
  },
  {
   "cell_type": "code",
   "execution_count": 36,
   "metadata": {},
   "outputs": [
    {
     "name": "stdout",
     "output_type": "stream",
     "text": [
      "\n",
      "    PIAIC Islamabad\n",
      "    Student id: 11\n",
      "    Name: Sohail\n",
      "    Father's Name: Arshad\n",
      "    course: A.I\n",
      "    Timing: 12 to 3\n",
      "    \n"
     ]
    }
   ],
   "source": [
    "def id_card(sid, sname, fname, course, timing):\n",
    "    print(f\"\"\"\n",
    "    PIAIC Islamabad\n",
    "    Student id: {sid}\n",
    "    Name: {sname}\n",
    "    Father's Name: {fname}\n",
    "    course: {course}\n",
    "    Timing: {timing}\n",
    "    \"\"\")\n",
    "\n",
    "id_card(sid=11,course=\"A.I\",timing=\"12 to 3\",fname=\"Arshad\",sname='Sohail')"
   ]
  },
  {
   "cell_type": "code",
   "execution_count": 38,
   "metadata": {},
   "outputs": [
    {
     "name": "stdout",
     "output_type": "stream",
     "text": [
      "\n",
      "    PIAIC Islamabad\n",
      "    Student id: 11\n",
      "    Name: Sohail\n",
      "    Father's Name: Arshad\n",
      "    course: A.I\n",
      "    Timing: 12 to 3\n",
      "    \n"
     ]
    }
   ],
   "source": [
    "def id_card(sid, sname, fname, course, timing):\n",
    "    print(f\"\"\"\n",
    "    PIAIC Islamabad\n",
    "    Student id: {sid}\n",
    "    Name: {sname}\n",
    "    Father's Name: {fname}\n",
    "    course: {course}\n",
    "    Timing: {timing}\n",
    "    \"\"\")\n",
    "\n",
    "id_card(11,'Sohail',course=\"A.I\",timing=\"12 to 3\",fname=\"Arshad\")"
   ]
  },
  {
   "cell_type": "code",
   "execution_count": 39,
   "metadata": {},
   "outputs": [
    {
     "ename": "SyntaxError",
     "evalue": "positional argument follows keyword argument (<ipython-input-39-4f823b69ad33>, line 11)",
     "output_type": "error",
     "traceback": [
      "\u001b[1;36m  File \u001b[1;32m\"<ipython-input-39-4f823b69ad33>\"\u001b[1;36m, line \u001b[1;32m11\u001b[0m\n\u001b[1;33m    id_card(11,'Sohail',course=\"A.I\",timing=\"12 to 3\",\"Arshad\")\u001b[0m\n\u001b[1;37m                                                     ^\u001b[0m\n\u001b[1;31mSyntaxError\u001b[0m\u001b[1;31m:\u001b[0m positional argument follows keyword argument\n"
     ]
    }
   ],
   "source": [
    "def id_card(sid, sname, fname, course, timing):\n",
    "    print(f\"\"\"\n",
    "    PIAIC Islamabad\n",
    "    Student id: {sid}\n",
    "    Name: {sname}\n",
    "    Father's Name: {fname}\n",
    "    course: {course}\n",
    "    Timing: {timing}\n",
    "    \"\"\")\n",
    "\n",
    "id_card(11,'Sohail',course=\"A.I\",timing=\"12 to 3\",\"Arshad\")"
   ]
  },
  {
   "cell_type": "markdown",
   "metadata": {},
   "source": [
    "# Pass Argument by List"
   ]
  },
  {
   "cell_type": "code",
   "execution_count": 46,
   "metadata": {},
   "outputs": [
    {
     "name": "stdout",
     "output_type": "stream",
     "text": [
      "\n",
      "    PIAIC Islamabad\n",
      "    Student id: 1\n",
      "    Name: sohail\n",
      "    Father's Name: Arshad\n",
      "    course: AI\n",
      "    Timing: 12 to 3\n",
      "    \n",
      "\n",
      "    PIAIC Islamabad\n",
      "    Student id: Arshad\n",
      "    Name: Aslam\n",
      "    Father's Name: 3\n",
      "    course: 3 to 6\n",
      "    Timing: AI\n",
      "    \n",
      "['Arshad', 'Aslam', 3, '3 to 6', 'AI']\n",
      "Arshad Aslam 3 3 to 6 AI\n"
     ]
    }
   ],
   "source": [
    "def id_card(sid, sname, fname, course, timing):\n",
    "    print(f\"\"\"\n",
    "    PIAIC Islamabad\n",
    "    Student id: {sid}\n",
    "    Name: {sname}\n",
    "    Father's Name: {fname}\n",
    "    course: {course}\n",
    "    Timing: {timing}\n",
    "    \"\"\")\n",
    "    \n",
    "l1=[1,'sohail','Arshad','AI','12 to 3']\n",
    "l2=['Arshad','Aslam',3,'3 to 6','AI']\n",
    "id_card(*l1)\n",
    "id_card(*l2)\n",
    "print(l2)\n",
    "print(*l2)"
   ]
  },
  {
   "cell_type": "markdown",
   "metadata": {},
   "source": [
    "# Pass Arguments by Dictionary"
   ]
  },
  {
   "cell_type": "code",
   "execution_count": 61,
   "metadata": {},
   "outputs": [
    {
     "name": "stdout",
     "output_type": "stream",
     "text": [
      "\n",
      "    PIAIC Islamabad\n",
      "    Student id: 2\n",
      "    Name: Sohail\n",
      "    Father's Name: Arshad\n",
      "    course: A.I\n",
      "    Timing: 12:30 to 03:30\n",
      "    \n",
      "{'course': 'A.I', 'timing': '12:30 to 03:30', 'sname': 'Sohail', 'fname': 'Arshad', 'sid': 2}\n"
     ]
    }
   ],
   "source": [
    "def id_card(sid, sname, fname, course, timing):\n",
    "    print(f\"\"\"\n",
    "    PIAIC Islamabad\n",
    "    Student id: {sid}\n",
    "    Name: {sname}\n",
    "    Father's Name: {fname}\n",
    "    course: {course}\n",
    "    Timing: {timing}\n",
    "    \"\"\")\n",
    "d1={\n",
    "    'course': 'A.I',\n",
    "    \"timing\":'12:30 to 03:30',\n",
    "    'sname': 'Sohail',\n",
    "    'fname':'Arshad',\n",
    "    'sid':2\n",
    "}\n",
    "id_card(**d1)\n",
    "print(d1)"
   ]
  },
  {
   "cell_type": "code",
   "execution_count": 59,
   "metadata": {},
   "outputs": [
    {
     "name": "stdout",
     "output_type": "stream",
     "text": [
      "{'name': 'sohail', 'father name': 'Arshad'}\n",
      "sohail\n",
      "Arshad\n"
     ]
    }
   ],
   "source": [
    "d={\n",
    "    'name' :'sohail',\n",
    "    'father name' :'Arshad'\n",
    "}\n",
    "print(d)\n",
    "print(d['name'])\n",
    "print(d['father name'])"
   ]
  },
  {
   "cell_type": "markdown",
   "metadata": {},
   "source": [
    "# Optional Parameters with List"
   ]
  },
  {
   "cell_type": "code",
   "execution_count": 63,
   "metadata": {},
   "outputs": [
    {
     "name": "stdout",
     "output_type": "stream",
     "text": [
      "sohail\n",
      "(2, 4, 5, 6, 78, 9, 10)\n",
      "114\n"
     ]
    }
   ],
   "source": [
    "def abc(name,*number):\n",
    "    print(name)\n",
    "    print(number)\n",
    "    print(sum(number))\n",
    "abc('sohail',2,4,5,6,78,9,10)"
   ]
  },
  {
   "cell_type": "code",
   "execution_count": 71,
   "metadata": {},
   "outputs": [
    {
     "name": "stdout",
     "output_type": "stream",
     "text": [
      "(1, 2, 3, 4, 5)\n",
      "4\n",
      "9\n",
      "15\n",
      "19\n",
      "24\n"
     ]
    }
   ],
   "source": [
    "def x(*a,b,c):\n",
    "    print(a)\n",
    "    print(b)\n",
    "    print(c)\n",
    "    print(sum(a))\n",
    "#     print(sum(b,c))    #why this statment is not execute,whats problem with this statment\n",
    "    print(sum(a,b))\n",
    "    print(sum(a,c))\n",
    "#     print(sum(c,b))# same error here\n",
    "x(1,2,3,4,5,b=4,c=9)"
   ]
  },
  {
   "cell_type": "code",
   "execution_count": 72,
   "metadata": {},
   "outputs": [
    {
     "name": "stdout",
     "output_type": "stream",
     "text": [
      "Sohail\n",
      "(7, 4, 8, 9)\n",
      "28\n"
     ]
    }
   ],
   "source": [
    "def abc(*number, name):\n",
    "    print(name)\n",
    "    print(number)\n",
    "    print(sum(number))\n",
    "    \n",
    "abc(7,4,8,9, name=\"Sohail\")"
   ]
  },
  {
   "cell_type": "markdown",
   "metadata": {},
   "source": [
    "# Optional Parameters with Dictionary"
   ]
  },
  {
   "cell_type": "code",
   "execution_count": 73,
   "metadata": {},
   "outputs": [
    {
     "name": "stdout",
     "output_type": "stream",
     "text": [
      "sohail\n",
      "{'a': 'aa', 'b': 'bb', 'c': 'cc'}\n",
      "Pakistan\n"
     ]
    }
   ],
   "source": [
    "def abc(name, **x):\n",
    "    print(name)\n",
    "    print(x)\n",
    "    if 'b' in x.keys():\n",
    "        print(\"Pakistan\")\n",
    "    \n",
    "abc('sohail', a='aa', b='bb',c='cc')"
   ]
  },
  {
   "cell_type": "code",
   "execution_count": 83,
   "metadata": {},
   "outputs": [
    {
     "name": "stdout",
     "output_type": "stream",
     "text": [
      "{'name': 'sohail', 'Father name': 'M Arshad'}\n",
      "islamabad\n"
     ]
    }
   ],
   "source": [
    "def xyz(city,**d):\n",
    "    print(d)\n",
    "    print(city)\n",
    "dic={\n",
    "    'name':'sohail',\n",
    "    'Father name':'M Arshad'\n",
    "}\n",
    "xyz('islamabad',**dic)\n"
   ]
  },
  {
   "cell_type": "code",
   "execution_count": 84,
   "metadata": {},
   "outputs": [
    {
     "ename": "SyntaxError",
     "evalue": "invalid syntax (<ipython-input-84-4277efad8c13>, line 1)",
     "output_type": "error",
     "traceback": [
      "\u001b[1;36m  File \u001b[1;32m\"<ipython-input-84-4277efad8c13>\"\u001b[1;36m, line \u001b[1;32m1\u001b[0m\n\u001b[1;33m    def abc(**kv, name):\u001b[0m\n\u001b[1;37m                     ^\u001b[0m\n\u001b[1;31mSyntaxError\u001b[0m\u001b[1;31m:\u001b[0m invalid syntax\n"
     ]
    }
   ],
   "source": [
    "\n",
    "def abc(**kv, name):\n",
    "    print(name)\n",
    "    print(kv)\n",
    "    if 'b' in kv.keys():\n",
    "        print(\"Pakistan\")\n",
    "    \n",
    "abc( a='aa', b='bb',c='cc', name='sohail')"
   ]
  },
  {
   "cell_type": "markdown",
   "metadata": {},
   "source": [
    "# Recursive function"
   ]
  },
  {
   "cell_type": "code",
   "execution_count": 1,
   "metadata": {},
   "outputs": [
    {
     "data": {
      "text/plain": [
       "120"
      ]
     },
     "execution_count": 1,
     "metadata": {},
     "output_type": "execute_result"
    }
   ],
   "source": [
    "def xyz(n):\n",
    "    if n==1:\n",
    "        return 1\n",
    "    \n",
    "    return n * xyz(n-1)\n",
    "\n",
    "\n",
    "\n",
    "xyz(5)\n",
    "\n",
    "#1*2*3*4*5=120\n",
    "# I don't get what and why recursive function is?"
   ]
  },
  {
   "cell_type": "markdown",
   "metadata": {},
   "source": [
    "# Lambda function"
   ]
  },
  {
   "cell_type": "code",
   "execution_count": 2,
   "metadata": {},
   "outputs": [
    {
     "data": {
      "text/plain": [
       "11"
      ]
     },
     "execution_count": 2,
     "metadata": {},
     "output_type": "execute_result"
    }
   ],
   "source": [
    "def abc(x,y):return x+y\n",
    "abc(5,6)"
   ]
  },
  {
   "cell_type": "code",
   "execution_count": 4,
   "metadata": {},
   "outputs": [
    {
     "data": {
      "text/plain": [
       "11"
      ]
     },
     "execution_count": 4,
     "metadata": {},
     "output_type": "execute_result"
    }
   ],
   "source": [
    "abc=lambda x,y:x+y\n",
    "abc(4,7)"
   ]
  },
  {
   "cell_type": "code",
   "execution_count": 5,
   "metadata": {},
   "outputs": [
    {
     "data": {
      "text/plain": [
       "504"
      ]
     },
     "execution_count": 5,
     "metadata": {},
     "output_type": "execute_result"
    }
   ],
   "source": [
    "x=lambda a,b,c:a*b*c\n",
    "x(9,8,7)"
   ]
  },
  {
   "cell_type": "markdown",
   "metadata": {},
   "source": [
    "# Generator function"
   ]
  },
  {
   "cell_type": "code",
   "execution_count": 6,
   "metadata": {},
   "outputs": [
    {
     "name": "stdout",
     "output_type": "stream",
     "text": [
      "<generator object my_range at 0x00000227254C42C8>\n",
      "1\n",
      "2\n",
      "3\n",
      "4\n",
      "5\n"
     ]
    },
    {
     "data": {
      "text/plain": [
       "[6, 7, 8, 9, 10]"
      ]
     },
     "execution_count": 6,
     "metadata": {},
     "output_type": "execute_result"
    }
   ],
   "source": [
    "def my_range(n):\n",
    "    for i in range(1,n+1):\n",
    "        yield i\n",
    "        \n",
    "        \n",
    "a = my_range(10)        \n",
    "print(a)\n",
    "print(next(a))\n",
    "print(next(a))\n",
    "print(next(a))\n",
    "print(next(a))\n",
    "print(next(a))\n",
    "\n",
    "list(a)\n",
    "# I can't get this\n",
    "# what generator function is"
   ]
  },
  {
   "cell_type": "code",
   "execution_count": 7,
   "metadata": {},
   "outputs": [
    {
     "name": "stdout",
     "output_type": "stream",
     "text": [
      "105\n",
      "210\n"
     ]
    }
   ],
   "source": [
    "def my_range(n):\n",
    "    for i in range(1,n+1):\n",
    "        if (i%5==0 and i%7==0 and i%15==0):\n",
    "            yield i\n",
    "        \n",
    "        \n",
    "a = my_range(1500)        \n",
    "\n",
    "print(next(a))\n",
    "print(next(a))\n",
    "# ???????\n",
    "# whats going on  "
   ]
  },
  {
   "cell_type": "code",
   "execution_count": null,
   "metadata": {},
   "outputs": [],
   "source": []
  }
 ],
 "metadata": {
  "kernelspec": {
   "display_name": "Python 3",
   "language": "python",
   "name": "python3"
  },
  "language_info": {
   "codemirror_mode": {
    "name": "ipython",
    "version": 3
   },
   "file_extension": ".py",
   "mimetype": "text/x-python",
   "name": "python",
   "nbconvert_exporter": "python",
   "pygments_lexer": "ipython3",
   "version": "3.7.4"
  }
 },
 "nbformat": 4,
 "nbformat_minor": 2
}
